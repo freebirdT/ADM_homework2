{
 "cells": [
  {
   "cell_type": "markdown",
   "metadata": {},
   "source": [
    "# Homework 2 - eCommerce analytics"
   ]
  },
  {
   "cell_type": "markdown",
   "metadata": {},
   "source": [
    "*Authors:*\n",
    "- _Tansel Simsek_\n",
    "- _Andrea Carella_\n",
    "- _Adrienn Timea Aszalos_\n",
    "\n",
    "Date: 08.11.2020\n"
   ]
  },
  {
   "cell_type": "markdown",
   "metadata": {},
   "source": [
    "## Introduction to the homework"
   ]
  },
  {
   "cell_type": "markdown",
   "metadata": {},
   "source": [
    "<font size=\"2\">E-commerce, also known as electronic commerce or internet commerce, refers to the buying and selling of goods or services using the internet, and the transfer of money and data to execute these transactions. The first e-commerce implementations date back to the 1990s and since then, millions of people every day visit some e-commerce sites to look for some product or service and, eventually, to purchase it.\n",
    "\n",
    "You have been hired as a data scientist from a big multi-category online store. You and your team have been required to perform an analysis of the customer behavior in the store. Each row in the dataset represents an event, which catches different interactions (views, a product added/removed to/from the cart, purchases) of customers with your e-commerce. All events are related to products and users.\n",
    "\n",
    "Your goal is to answer some research questions (RQs) that may help us discover and interpret meaningful patterns in data and eventually increase the number of sales.</font>"
   ]
  },
  {
   "cell_type": "markdown",
   "metadata": {},
   "source": [
    "## Libraries"
   ]
  },
  {
   "cell_type": "code",
   "execution_count": 1,
   "metadata": {},
   "outputs": [],
   "source": [
    "import pandas as pd\n",
    "import matplotlib.pyplot as plt\n",
    "from matplotlib import cm\n",
    "import numpy as np\n",
    "import gc # Garbage Collector\n",
    "from collections import OrderedDict "
   ]
  },
  {
   "cell_type": "markdown",
   "metadata": {},
   "source": [
    "## Importing datasets"
   ]
  },
  {
   "cell_type": "markdown",
   "metadata": {},
   "source": [
    "<font size=\"3\">**NOTE!!!** \n",
    "    The _**category_code**_  and _**brand**_ columns of the dataset may have missing values.</font>"
   ]
  },
  {
   "cell_type": "code",
   "execution_count": 22,
   "metadata": {},
   "outputs": [
    {
     "data": {
      "text/plain": [
       "18"
      ]
     },
     "execution_count": 22,
     "metadata": {},
     "output_type": "execute_result"
    }
   ],
   "source": [
    "# Importing the file 2019-Oct.csv and converting the values of the column \"event_time\" from string to type datetime64\n",
    "\n",
    "dataset = pd.read_csv('./data/2019-Oct.csv', \n",
    "                      header='infer', \n",
    "                      parse_dates=['event_time'],\n",
    "                     date_parser=pd.to_datetime, nrows=90000)\n",
    "\n",
    "# Using this method in order to force the system to try to reclaim the maximum amount of available memory\n",
    "gc.collect()"
   ]
  },
  {
   "cell_type": "code",
   "execution_count": 23,
   "metadata": {},
   "outputs": [
    {
     "data": {
      "text/plain": [
       "0"
      ]
     },
     "execution_count": 23,
     "metadata": {},
     "output_type": "execute_result"
    }
   ],
   "source": [
    "# Importing the file 2019-Nov.csv and converting the values of the column \"event_time\" from string to timestamp\n",
    "\n",
    "dataset_nov = pd.read_csv('./data/2019-Nov.csv', \n",
    "                      header='infer', \n",
    "                      parse_dates=['event_time'],\n",
    "                     date_parser=pd.to_datetime, nrows=90000)\n",
    "\n",
    "# Using this method in order to force the system to try to reclaim the maximum amount of available memory\n",
    "gc.collect()"
   ]
  },
  {
   "cell_type": "code",
   "execution_count": 24,
   "metadata": {
    "scrolled": true
   },
   "outputs": [
    {
     "data": {
      "text/plain": [
       "20"
      ]
     },
     "execution_count": 24,
     "metadata": {},
     "output_type": "execute_result"
    }
   ],
   "source": [
    "# Merging the two datasets into one single dataset and storing the final data into an existing variable in order \n",
    "# to use as little memory as possible\n",
    "dataset = dataset.append(dataset_nov).reset_index()\n",
    "\n",
    "# Deleting the unused variable in order to free memory space\n",
    "del dataset_nov\n",
    "\n",
    "# Using this method in order to force the system to try to reclaim the maximum amount of available memory\n",
    "gc.collect()"
   ]
  },
  {
   "cell_type": "code",
   "execution_count": 25,
   "metadata": {},
   "outputs": [],
   "source": [
    "# Storing the data into a pickle file in order to procees it more rapidly instead of processing the two csv files each time \n",
    "# we start the session in Jupiter\n",
    "dataset.to_pickle(\"data/mergedata\")"
   ]
  },
  {
   "cell_type": "code",
   "execution_count": 2,
   "metadata": {},
   "outputs": [],
   "source": [
    "dataset = pd.read_pickle(\"data/mergedata\")"
   ]
  },
  {
   "cell_type": "markdown",
   "metadata": {},
   "source": [
    "## Let's visualize and know our dataset"
   ]
  },
  {
   "cell_type": "markdown",
   "metadata": {},
   "source": [
    "Viewing the structure of the dataset"
   ]
  },
  {
   "cell_type": "code",
   "execution_count": 9,
   "metadata": {},
   "outputs": [
    {
     "data": {
      "text/html": [
       "<div>\n",
       "<style scoped>\n",
       "    .dataframe tbody tr th:only-of-type {\n",
       "        vertical-align: middle;\n",
       "    }\n",
       "\n",
       "    .dataframe tbody tr th {\n",
       "        vertical-align: top;\n",
       "    }\n",
       "\n",
       "    .dataframe thead th {\n",
       "        text-align: right;\n",
       "    }\n",
       "</style>\n",
       "<table border=\"1\" class=\"dataframe\">\n",
       "  <thead>\n",
       "    <tr style=\"text-align: right;\">\n",
       "      <th></th>\n",
       "      <th>index</th>\n",
       "      <th>event_time</th>\n",
       "      <th>event_type</th>\n",
       "      <th>product_id</th>\n",
       "      <th>category_id</th>\n",
       "      <th>category_code</th>\n",
       "      <th>brand</th>\n",
       "      <th>price</th>\n",
       "      <th>user_id</th>\n",
       "      <th>user_session</th>\n",
       "    </tr>\n",
       "  </thead>\n",
       "  <tbody>\n",
       "    <tr>\n",
       "      <th>0</th>\n",
       "      <td>0</td>\n",
       "      <td>2019-10-01 00:00:00+00:00</td>\n",
       "      <td>view</td>\n",
       "      <td>44600062</td>\n",
       "      <td>2103807459595387724</td>\n",
       "      <td>NaN</td>\n",
       "      <td>shiseido</td>\n",
       "      <td>35.79</td>\n",
       "      <td>541312140</td>\n",
       "      <td>72d76fde-8bb3-4e00-8c23-a032dfed738c</td>\n",
       "    </tr>\n",
       "    <tr>\n",
       "      <th>1</th>\n",
       "      <td>1</td>\n",
       "      <td>2019-10-01 00:00:00+00:00</td>\n",
       "      <td>view</td>\n",
       "      <td>3900821</td>\n",
       "      <td>2053013552326770905</td>\n",
       "      <td>appliances.environment.water_heater</td>\n",
       "      <td>aqua</td>\n",
       "      <td>33.20</td>\n",
       "      <td>554748717</td>\n",
       "      <td>9333dfbd-b87a-4708-9857-6336556b0fcc</td>\n",
       "    </tr>\n",
       "    <tr>\n",
       "      <th>2</th>\n",
       "      <td>2</td>\n",
       "      <td>2019-10-01 00:00:01+00:00</td>\n",
       "      <td>view</td>\n",
       "      <td>17200506</td>\n",
       "      <td>2053013559792632471</td>\n",
       "      <td>furniture.living_room.sofa</td>\n",
       "      <td>NaN</td>\n",
       "      <td>543.10</td>\n",
       "      <td>519107250</td>\n",
       "      <td>566511c2-e2e3-422b-b695-cf8e6e792ca8</td>\n",
       "    </tr>\n",
       "    <tr>\n",
       "      <th>3</th>\n",
       "      <td>3</td>\n",
       "      <td>2019-10-01 00:00:01+00:00</td>\n",
       "      <td>view</td>\n",
       "      <td>1307067</td>\n",
       "      <td>2053013558920217191</td>\n",
       "      <td>computers.notebook</td>\n",
       "      <td>lenovo</td>\n",
       "      <td>251.74</td>\n",
       "      <td>550050854</td>\n",
       "      <td>7c90fc70-0e80-4590-96f3-13c02c18c713</td>\n",
       "    </tr>\n",
       "    <tr>\n",
       "      <th>4</th>\n",
       "      <td>4</td>\n",
       "      <td>2019-10-01 00:00:04+00:00</td>\n",
       "      <td>view</td>\n",
       "      <td>1004237</td>\n",
       "      <td>2053013555631882655</td>\n",
       "      <td>electronics.smartphone</td>\n",
       "      <td>apple</td>\n",
       "      <td>1081.98</td>\n",
       "      <td>535871217</td>\n",
       "      <td>c6bd7419-2748-4c56-95b4-8cec9ff8b80d</td>\n",
       "    </tr>\n",
       "  </tbody>\n",
       "</table>\n",
       "</div>"
      ],
      "text/plain": [
       "   index                event_time event_type  product_id  \\\n",
       "0      0 2019-10-01 00:00:00+00:00       view    44600062   \n",
       "1      1 2019-10-01 00:00:00+00:00       view     3900821   \n",
       "2      2 2019-10-01 00:00:01+00:00       view    17200506   \n",
       "3      3 2019-10-01 00:00:01+00:00       view     1307067   \n",
       "4      4 2019-10-01 00:00:04+00:00       view     1004237   \n",
       "\n",
       "           category_id                        category_code     brand  \\\n",
       "0  2103807459595387724                                  NaN  shiseido   \n",
       "1  2053013552326770905  appliances.environment.water_heater      aqua   \n",
       "2  2053013559792632471           furniture.living_room.sofa       NaN   \n",
       "3  2053013558920217191                   computers.notebook    lenovo   \n",
       "4  2053013555631882655               electronics.smartphone     apple   \n",
       "\n",
       "     price    user_id                          user_session  \n",
       "0    35.79  541312140  72d76fde-8bb3-4e00-8c23-a032dfed738c  \n",
       "1    33.20  554748717  9333dfbd-b87a-4708-9857-6336556b0fcc  \n",
       "2   543.10  519107250  566511c2-e2e3-422b-b695-cf8e6e792ca8  \n",
       "3   251.74  550050854  7c90fc70-0e80-4590-96f3-13c02c18c713  \n",
       "4  1081.98  535871217  c6bd7419-2748-4c56-95b4-8cec9ff8b80d  "
      ]
     },
     "execution_count": 9,
     "metadata": {},
     "output_type": "execute_result"
    }
   ],
   "source": [
    "dataset.head()"
   ]
  },
  {
   "cell_type": "markdown",
   "metadata": {},
   "source": [
    "The columns of our dataset are the following:\n",
    "- _event_time:_ Time when event happened at (in UTC).\n",
    "- _event_type:_\n",
    "    \n",
    "    Events can be:\n",
    "\n",
    "    - view - a user viewed a product\n",
    "    - cart - a user added a product to shopping cart\n",
    "    - removefromcart - a user removed a product from shopping cart\n",
    "    - purchase - a user purchased a product\n",
    "\n",
    "    Typical funnel: view => cart => purchase.\n",
    "    \n",
    "\n",
    "- _product_id:_ ID of a product\n",
    "- _category_id:_ Product's category ID\n",
    "- _category_code:_ Product's category taxonomy (code name) if it was possible to make it. Usually present for meaningful categories and skipped for different kinds of accessories.\n",
    "- _brand:_ Downcased string of brand name. Can be missed. \n",
    "- _price:_ Float price of a product. Present.\n",
    "- _user_id:_ Permanent user ID.\n",
    "- _user_session:_ Temporary user's session ID. Same for each user's session. Is changed every time user come back to online store from a long pause.\n",
    "\n",
    "**NOTE!!!** \n",
    "- The columns:\n",
    "    - **_brand_**,\n",
    "    - _**category_code**_ may **contain missing values**\n",
    "- The value **_removefromcart_** of the column *event_type* **is missing**."
   ]
  },
  {
   "cell_type": "code",
   "execution_count": 11,
   "metadata": {},
   "outputs": [
    {
     "data": {
      "text/plain": [
       "Index(['index', 'event_time', 'event_type', 'product_id', 'category_id',\n",
       "       'category_code', 'brand', 'price', 'user_id', 'user_session'],\n",
       "      dtype='object')"
      ]
     },
     "execution_count": 11,
     "metadata": {},
     "output_type": "execute_result"
    }
   ],
   "source": [
    "dataset.columns"
   ]
  },
  {
   "cell_type": "code",
   "execution_count": 12,
   "metadata": {},
   "outputs": [
    {
     "name": "stdout",
     "output_type": "stream",
     "text": [
      "The dataset is composed of 2400000 rows and 10 columns.\n"
     ]
    }
   ],
   "source": [
    "print('The dataset is composed of ' + str(dataset.shape[0]) + ' rows and ' + str(dataset.shape[1]) + ' columns.')"
   ]
  },
  {
   "cell_type": "markdown",
   "metadata": {},
   "source": [
    "## Generating a descriptive statistics about the dataframe:"
   ]
  },
  {
   "cell_type": "code",
   "execution_count": 13,
   "metadata": {},
   "outputs": [
    {
     "data": {
      "text/html": [
       "<div>\n",
       "<style scoped>\n",
       "    .dataframe tbody tr th:only-of-type {\n",
       "        vertical-align: middle;\n",
       "    }\n",
       "\n",
       "    .dataframe tbody tr th {\n",
       "        vertical-align: top;\n",
       "    }\n",
       "\n",
       "    .dataframe thead th {\n",
       "        text-align: right;\n",
       "    }\n",
       "</style>\n",
       "<table border=\"1\" class=\"dataframe\">\n",
       "  <thead>\n",
       "    <tr style=\"text-align: right;\">\n",
       "      <th></th>\n",
       "      <th>index</th>\n",
       "      <th>event_time</th>\n",
       "      <th>event_type</th>\n",
       "      <th>product_id</th>\n",
       "      <th>category_id</th>\n",
       "      <th>category_code</th>\n",
       "      <th>brand</th>\n",
       "      <th>price</th>\n",
       "      <th>user_id</th>\n",
       "      <th>user_session</th>\n",
       "    </tr>\n",
       "  </thead>\n",
       "  <tbody>\n",
       "    <tr>\n",
       "      <th>count</th>\n",
       "      <td>2.400000e+06</td>\n",
       "      <td>2400000</td>\n",
       "      <td>2400000</td>\n",
       "      <td>2.400000e+06</td>\n",
       "      <td>2.400000e+06</td>\n",
       "      <td>1632230</td>\n",
       "      <td>2041636</td>\n",
       "      <td>2.400000e+06</td>\n",
       "      <td>2.400000e+06</td>\n",
       "      <td>2400000</td>\n",
       "    </tr>\n",
       "    <tr>\n",
       "      <th>unique</th>\n",
       "      <td>NaN</td>\n",
       "      <td>NaN</td>\n",
       "      <td>3</td>\n",
       "      <td>NaN</td>\n",
       "      <td>NaN</td>\n",
       "      <td>126</td>\n",
       "      <td>2984</td>\n",
       "      <td>NaN</td>\n",
       "      <td>NaN</td>\n",
       "      <td>537771</td>\n",
       "    </tr>\n",
       "    <tr>\n",
       "      <th>top</th>\n",
       "      <td>NaN</td>\n",
       "      <td>NaN</td>\n",
       "      <td>view</td>\n",
       "      <td>NaN</td>\n",
       "      <td>NaN</td>\n",
       "      <td>electronics.smartphone</td>\n",
       "      <td>samsung</td>\n",
       "      <td>NaN</td>\n",
       "      <td>NaN</td>\n",
       "      <td>4488e77a-9901-4c4b-b162-47a224ceab51</td>\n",
       "    </tr>\n",
       "    <tr>\n",
       "      <th>freq</th>\n",
       "      <td>NaN</td>\n",
       "      <td>NaN</td>\n",
       "      <td>2328239</td>\n",
       "      <td>NaN</td>\n",
       "      <td>NaN</td>\n",
       "      <td>647537</td>\n",
       "      <td>290497</td>\n",
       "      <td>NaN</td>\n",
       "      <td>NaN</td>\n",
       "      <td>504</td>\n",
       "    </tr>\n",
       "    <tr>\n",
       "      <th>mean</th>\n",
       "      <td>5.999995e+05</td>\n",
       "      <td>2019-10-16 23:03:14.677083392+00:00</td>\n",
       "      <td>NaN</td>\n",
       "      <td>1.062967e+07</td>\n",
       "      <td>2.057043e+18</td>\n",
       "      <td>NaN</td>\n",
       "      <td>NaN</td>\n",
       "      <td>2.947177e+02</td>\n",
       "      <td>5.332339e+08</td>\n",
       "      <td>NaN</td>\n",
       "    </tr>\n",
       "    <tr>\n",
       "      <th>min</th>\n",
       "      <td>0.000000e+00</td>\n",
       "      <td>2019-10-01 00:00:00+00:00</td>\n",
       "      <td>NaN</td>\n",
       "      <td>1.000978e+06</td>\n",
       "      <td>2.053014e+18</td>\n",
       "      <td>NaN</td>\n",
       "      <td>NaN</td>\n",
       "      <td>0.000000e+00</td>\n",
       "      <td>2.449511e+08</td>\n",
       "      <td>NaN</td>\n",
       "    </tr>\n",
       "    <tr>\n",
       "      <th>25%</th>\n",
       "      <td>2.999998e+05</td>\n",
       "      <td>2019-10-01 11:54:56+00:00</td>\n",
       "      <td>NaN</td>\n",
       "      <td>1.005158e+06</td>\n",
       "      <td>2.053014e+18</td>\n",
       "      <td>NaN</td>\n",
       "      <td>NaN</td>\n",
       "      <td>6.687000e+01</td>\n",
       "      <td>5.158089e+08</td>\n",
       "      <td>NaN</td>\n",
       "    </tr>\n",
       "    <tr>\n",
       "      <th>50%</th>\n",
       "      <td>5.999995e+05</td>\n",
       "      <td>2019-10-16 22:03:32.500000+00:00</td>\n",
       "      <td>NaN</td>\n",
       "      <td>5.100450e+06</td>\n",
       "      <td>2.053014e+18</td>\n",
       "      <td>NaN</td>\n",
       "      <td>NaN</td>\n",
       "      <td>1.670600e+02</td>\n",
       "      <td>5.290694e+08</td>\n",
       "      <td>NaN</td>\n",
       "    </tr>\n",
       "    <tr>\n",
       "      <th>75%</th>\n",
       "      <td>8.999992e+05</td>\n",
       "      <td>2019-11-01 10:36:49+00:00</td>\n",
       "      <td>NaN</td>\n",
       "      <td>1.650001e+07</td>\n",
       "      <td>2.053014e+18</td>\n",
       "      <td>NaN</td>\n",
       "      <td>NaN</td>\n",
       "      <td>3.621000e+02</td>\n",
       "      <td>5.507270e+08</td>\n",
       "      <td>NaN</td>\n",
       "    </tr>\n",
       "    <tr>\n",
       "      <th>max</th>\n",
       "      <td>1.199999e+06</td>\n",
       "      <td>2019-11-01 17:29:23+00:00</td>\n",
       "      <td>NaN</td>\n",
       "      <td>6.170001e+07</td>\n",
       "      <td>2.180737e+18</td>\n",
       "      <td>NaN</td>\n",
       "      <td>NaN</td>\n",
       "      <td>2.574070e+03</td>\n",
       "      <td>5.665404e+08</td>\n",
       "      <td>NaN</td>\n",
       "    </tr>\n",
       "    <tr>\n",
       "      <th>std</th>\n",
       "      <td>3.464102e+05</td>\n",
       "      <td>NaN</td>\n",
       "      <td>NaN</td>\n",
       "      <td>1.173096e+07</td>\n",
       "      <td>1.762606e+16</td>\n",
       "      <td>NaN</td>\n",
       "      <td>NaN</td>\n",
       "      <td>3.591903e+02</td>\n",
       "      <td>1.865554e+07</td>\n",
       "      <td>NaN</td>\n",
       "    </tr>\n",
       "  </tbody>\n",
       "</table>\n",
       "</div>"
      ],
      "text/plain": [
       "               index                           event_time event_type  \\\n",
       "count   2.400000e+06                              2400000    2400000   \n",
       "unique           NaN                                  NaN          3   \n",
       "top              NaN                                  NaN       view   \n",
       "freq             NaN                                  NaN    2328239   \n",
       "mean    5.999995e+05  2019-10-16 23:03:14.677083392+00:00        NaN   \n",
       "min     0.000000e+00            2019-10-01 00:00:00+00:00        NaN   \n",
       "25%     2.999998e+05            2019-10-01 11:54:56+00:00        NaN   \n",
       "50%     5.999995e+05     2019-10-16 22:03:32.500000+00:00        NaN   \n",
       "75%     8.999992e+05            2019-11-01 10:36:49+00:00        NaN   \n",
       "max     1.199999e+06            2019-11-01 17:29:23+00:00        NaN   \n",
       "std     3.464102e+05                                  NaN        NaN   \n",
       "\n",
       "          product_id   category_id           category_code    brand  \\\n",
       "count   2.400000e+06  2.400000e+06                 1632230  2041636   \n",
       "unique           NaN           NaN                     126     2984   \n",
       "top              NaN           NaN  electronics.smartphone  samsung   \n",
       "freq             NaN           NaN                  647537   290497   \n",
       "mean    1.062967e+07  2.057043e+18                     NaN      NaN   \n",
       "min     1.000978e+06  2.053014e+18                     NaN      NaN   \n",
       "25%     1.005158e+06  2.053014e+18                     NaN      NaN   \n",
       "50%     5.100450e+06  2.053014e+18                     NaN      NaN   \n",
       "75%     1.650001e+07  2.053014e+18                     NaN      NaN   \n",
       "max     6.170001e+07  2.180737e+18                     NaN      NaN   \n",
       "std     1.173096e+07  1.762606e+16                     NaN      NaN   \n",
       "\n",
       "               price       user_id                          user_session  \n",
       "count   2.400000e+06  2.400000e+06                               2400000  \n",
       "unique           NaN           NaN                                537771  \n",
       "top              NaN           NaN  4488e77a-9901-4c4b-b162-47a224ceab51  \n",
       "freq             NaN           NaN                                   504  \n",
       "mean    2.947177e+02  5.332339e+08                                   NaN  \n",
       "min     0.000000e+00  2.449511e+08                                   NaN  \n",
       "25%     6.687000e+01  5.158089e+08                                   NaN  \n",
       "50%     1.670600e+02  5.290694e+08                                   NaN  \n",
       "75%     3.621000e+02  5.507270e+08                                   NaN  \n",
       "max     2.574070e+03  5.665404e+08                                   NaN  \n",
       "std     3.591903e+02  1.865554e+07                                   NaN  "
      ]
     },
     "execution_count": 13,
     "metadata": {},
     "output_type": "execute_result"
    }
   ],
   "source": [
    "dataset.describe(datetime_is_numeric=True, include='all')"
   ]
  },
  {
   "cell_type": "markdown",
   "metadata": {},
   "source": [
    "## Managing missing data values"
   ]
  },
  {
   "cell_type": "code",
   "execution_count": 14,
   "metadata": {},
   "outputs": [
    {
     "name": "stdout",
     "output_type": "stream",
     "text": [
      "There are 358364 rows that present missing values in the column brand.\n"
     ]
    }
   ],
   "source": [
    "print('There are ' + str(dataset['brand'].isnull().sum()) + ' rows that present missing values in the column brand.')"
   ]
  },
  {
   "cell_type": "code",
   "execution_count": 15,
   "metadata": {},
   "outputs": [
    {
     "name": "stdout",
     "output_type": "stream",
     "text": [
      "There are 767770 rows that present missing values in the column category_code.\n"
     ]
    }
   ],
   "source": [
    "print('There are ' + str(dataset['category_code'].isnull().sum()) + ' rows that present missing values in the column category_code.')"
   ]
  },
  {
   "cell_type": "code",
   "execution_count": 16,
   "metadata": {},
   "outputs": [
    {
     "name": "stdout",
     "output_type": "stream",
     "text": [
      "The total number of the rows containing missing values is: 905336.\n"
     ]
    }
   ],
   "source": [
    "print('The total number of the rows containing missing values is: ' + str(dataset.isnull().any(axis=1).sum()) + '.')"
   ]
  },
  {
   "cell_type": "code",
   "execution_count": 17,
   "metadata": {},
   "outputs": [
    {
     "name": "stdout",
     "output_type": "stream",
     "text": [
      "The percentage of missing value in the original dataset is: 0.38%.\n"
     ]
    }
   ],
   "source": [
    "print('The percentage of missing value in the original dataset is: ' + str(round(dataset.isnull().any(axis=1).sum()/len(dataset),2)) + '%.')"
   ]
  },
  {
   "cell_type": "markdown",
   "metadata": {},
   "source": [
    "**Why did we chose to maintain the NaN values**\n",
    "\n",
    "Since the less populated values are the ones of the attributes *category_code* and *brand* we opt to maintain the missing values (NaN) without replacing them or filling them with other values, because it doesn't make much sense to impute values for a category code or/and a brand name.\n",
    "\n",
    "If we would have performed machine learning techniques then in that case we would have filled in the missing values.\n",
    "Also we excluded the removal of the missing data because the percentage of it was very high (see cell above)."
   ]
  },
  {
   "cell_type": "markdown",
   "metadata": {},
   "source": [
    "## Research questions"
   ]
  },
  {
   "cell_type": "markdown",
   "metadata": {},
   "source": [
    "### [RQ1] \n",
    "\n",
    "**INTRO**\n",
    "\n",
    "A marketing funnel describes your customer’s journey with your e-commerce. It may involve different stages, beginning when someone learns about your business, when he/she visits your website for the first time, to the purchasing stage, marketing funnels map routes to conversion and beyond. Suppose your funnel involves just three simple steps: 1) view, 2) cart, 3) purchase. "
   ]
  },
  {
   "cell_type": "markdown",
   "metadata": {},
   "source": [
    "### [RQ1.0] \n",
    "Which is the rate of complete funnels?\n"
   ]
  },
  {
   "cell_type": "code",
   "execution_count": 19,
   "metadata": {
    "scrolled": true
   },
   "outputs": [
    {
     "name": "stdout",
     "output_type": "stream",
     "text": [
      "The complete funnel rate is: 1%\n"
     ]
    }
   ],
   "source": [
    "gc.collect()\n",
    "\n",
    "# Group dataset by product_id, user_session and event_type and count the occurrences of each event type\n",
    "completeFunnel = dataset.groupby(['product_id', 'user_session', 'event_type']).event_type.count()\n",
    "\n",
    "# Convert obtained GroupBy Series into a Dataframe in order to rename the name of the column \n",
    "# containing the occurrences for each event type\n",
    "completeFunnel = pd.DataFrame(completeFunnel).rename(columns={'event_type':'count'}).reset_index()\n",
    "\n",
    "gc.collect()\n",
    "\n",
    "# Group dataset by product_id and user_session and count the occurrences of each user session \n",
    "completeFunnel = completeFunnel.groupby(['product_id','user_session']).user_session.count()\n",
    "\n",
    "# Convert obtained GroupBy Series into a Dataframe in order to rename the name of the column \n",
    "# containing the occurrences for each user session\n",
    "completeFunnel = pd.DataFrame(completeFunnel).rename(columns={'user_session':'count'}).reset_index()\n",
    "\n",
    "gc.collect()\n",
    "\n",
    "# Total number of rows containing the occurrences of each user session\n",
    "N = int(completeFunnel.shape[0])\n",
    "\n",
    "# Number of all the rowss containing all the three steps (view, cart, purchase) per session\n",
    "n = completeFunnel[completeFunnel['count'] == 3].shape[0]\n",
    "\n",
    "# Calculate the rate of complete funnels \n",
    "completeFunnelRate = round(n*100/N)\n",
    "\n",
    "print(\"The complete funnel rate is:\", str(completeFunnelRate) + '%')\n",
    "\n",
    "# Delete variable to free RAM\n",
    "del completeFunnel, N, n"
   ]
  },
  {
   "cell_type": "markdown",
   "metadata": {},
   "source": [
    "### [RQ1.1]\n",
    "\n",
    "What’s the operation users repeat more on average within a session? Produce a plot that shows the average number of times users perform each operation (view/removefromchart etc etc)."
   ]
  },
  {
   "cell_type": "code",
   "execution_count": 22,
   "metadata": {},
   "outputs": [
    {
     "name": "stdout",
     "output_type": "stream",
     "text": [
      "From the plot we can deduce the following informations:\n",
      "\n",
      "1. The most repetead operation is: view.\n",
      "2. The average number of cart operations per session is: 0.06\n",
      "3. The average number of purchase operations per session is: 0.07\n",
      "4. The average number of view operations per session is: 4.33\n",
      "5. The average number of removefromcart operations per session is: 0\n"
     ]
    },
    {
     "data": {
      "image/png": "[encoded data removed]",
      "text/plain": [
       "<Figure size 432x288 with 1 Axes>"
      ]
     },
     "metadata": {
      "needs_background": "light"
     },
     "output_type": "display_data"
    }
   ],
   "source": [
    "gc.collect()\n",
    "# Grouping the data by the event types and counting the number of occurrences for each event:\n",
    "totalOperationsPerEventType = dataset.groupby('event_type').event_type.count()\n",
    "\n",
    "# Converting the dataset into an array and dividing each element of the array by the total unique numbers of sessions\n",
    "# in order to obtain the average number of operations per event type\n",
    "averageNumberOfOperationsPerSession = totalOperationsPerEventType.to_numpy()/dataset.user_session.nunique()\n",
    "\n",
    "# Getting the unique names of the event types \n",
    "eventTypes = sorted(dataset.event_type.unique())\n",
    "\n",
    "# Plotting the average number of times users perform each operation (view/removefromchart etc etc)\n",
    "plt.plot(eventTypes,averageNumberOfOperationsPerSession)\n",
    "\n",
    "print(\"From the plot we can deduce the following informations:\" + '\\n')\n",
    "print(\"1. The most repetead operation is:\", str(eventTypes[len(eventTypes)-1]) + \".\")\n",
    "print(\"2. The average number of cart operations per session is: \" + str(round(averageNumberOfOperationsPerSession[0],2)))\n",
    "print(\"3. The average number of purchase operations per session is: \" + str(round(averageNumberOfOperationsPerSession[1],2)))\n",
    "print(\"4. The average number of view operations per session is: \" + str(round(averageNumberOfOperationsPerSession[2],2)))\n",
    "print(\"5. The average number of removefromcart operations per session is: \" + str(0))\n",
    "\n",
    "del totalOperationsPerEventType, averageNumberOfOperationsPerSession, eventTypes"
   ]
  },
  {
   "cell_type": "markdown",
   "metadata": {},
   "source": [
    "### [RQ1.4]\n",
    "What’s the average time an item stays in the cart before being removed?"
   ]
  },
  {
   "cell_type": "markdown",
   "metadata": {},
   "source": [
    "### [RQ6.1] \n",
    "The conversion rate of a product is given by the number of times a product has been bought over the number of times it has been visited. What's the conversion rate of your online store? Find the overall conversion rate of your store."
   ]
  },
  {
   "cell_type": "code",
   "execution_count": 3,
   "metadata": {},
   "outputs": [
    {
     "name": "stdout",
     "output_type": "stream",
     "text": [
      "The overall conversion rate of the store is equal to: 0.16%.\n"
     ]
    }
   ],
   "source": [
    "gc.collect()\n",
    "# The following table shows how many times a product has been purchased.\n",
    "purchasedProducts = pd.DataFrame(dataset[dataset.event_type == 'purchase'].groupby('product_id').product_id.count()).rename(columns={'product_id':'count purchases'}).reset_index()\n",
    "\n",
    "# The following table shows how many times a product has been viewed.\n",
    "viewedProducts = pd.DataFrame(dataset[dataset.event_type == 'view'].groupby('product_id').product_id.count()).rename(columns={'product_id':'count views'}).reset_index()\n",
    "\n",
    "# Join on the two tables\n",
    "mergedTable = purchasedProducts.join(viewedProducts.set_index('product_id'), on = 'product_id')\n",
    "\n",
    "# Add a new column to the table and calculate the conversion rate for each product\n",
    "mergedTable['conversion rate'] = mergedTable['count purchases']/mergedTable['count views']\n",
    "\n",
    "# Calculate the overall conversion rate of the store\n",
    "print('The overall conversion rate of the store is equal to: ' + str(round(mergedTable['conversion rate'].mean(),2)) + '%.')\n",
    "\n",
    "del purchasedProducts, viewedProducts, mergedTable"
   ]
  },
  {
   "cell_type": "markdown",
   "metadata": {},
   "source": [
    "### [RQ6.2] \n",
    "Plot the number of purchases of each category and show the conversion rate of each category in decreasing order.\n",
    "\n",
    "**NOTE!!!**\n",
    "For the resolution of these exercises we are considering the column *category_id* because it always contains a value (it has no Nan values)."
   ]
  },
  {
   "cell_type": "code",
   "execution_count": 14,
   "metadata": {
    "scrolled": false
   },
   "outputs": [
    {
     "name": "stdout",
     "output_type": "stream",
     "text": [
      "Below we can view both the table, for a better understanding, and the plot of the number of purchases of each category:\n"
     ]
    },
    {
     "data": {
      "text/html": [
       "<div>\n",
       "<style scoped>\n",
       "    .dataframe tbody tr th:only-of-type {\n",
       "        vertical-align: middle;\n",
       "    }\n",
       "\n",
       "    .dataframe tbody tr th {\n",
       "        vertical-align: top;\n",
       "    }\n",
       "\n",
       "    .dataframe thead th {\n",
       "        text-align: right;\n",
       "    }\n",
       "</style>\n",
       "<table border=\"1\" class=\"dataframe\">\n",
       "  <thead>\n",
       "    <tr style=\"text-align: right;\">\n",
       "      <th></th>\n",
       "      <th>category_id</th>\n",
       "      <th>count_purchases</th>\n",
       "    </tr>\n",
       "  </thead>\n",
       "  <tbody>\n",
       "    <tr>\n",
       "      <th>0</th>\n",
       "      <td>2053013552259662037</td>\n",
       "      <td>17</td>\n",
       "    </tr>\n",
       "    <tr>\n",
       "      <th>1</th>\n",
       "      <td>2053013552293216471</td>\n",
       "      <td>13</td>\n",
       "    </tr>\n",
       "    <tr>\n",
       "      <th>2</th>\n",
       "      <td>2053013552326770905</td>\n",
       "      <td>12</td>\n",
       "    </tr>\n",
       "    <tr>\n",
       "      <th>3</th>\n",
       "      <td>2053013552351936731</td>\n",
       "      <td>2</td>\n",
       "    </tr>\n",
       "    <tr>\n",
       "      <th>4</th>\n",
       "      <td>2053013552385491165</td>\n",
       "      <td>6</td>\n",
       "    </tr>\n",
       "    <tr>\n",
       "      <th>...</th>\n",
       "      <td>...</td>\n",
       "      <td>...</td>\n",
       "    </tr>\n",
       "    <tr>\n",
       "      <th>220</th>\n",
       "      <td>2146551843914777018</td>\n",
       "      <td>1</td>\n",
       "    </tr>\n",
       "    <tr>\n",
       "      <th>221</th>\n",
       "      <td>2146660887002349890</td>\n",
       "      <td>1</td>\n",
       "    </tr>\n",
       "    <tr>\n",
       "      <th>222</th>\n",
       "      <td>2151563850841850061</td>\n",
       "      <td>1</td>\n",
       "    </tr>\n",
       "    <tr>\n",
       "      <th>223</th>\n",
       "      <td>2164367422893589471</td>\n",
       "      <td>2</td>\n",
       "    </tr>\n",
       "    <tr>\n",
       "      <th>224</th>\n",
       "      <td>2172371436436455782</td>\n",
       "      <td>14</td>\n",
       "    </tr>\n",
       "  </tbody>\n",
       "</table>\n",
       "<p>225 rows × 2 columns</p>\n",
       "</div>"
      ],
      "text/plain": [
       "             category_id  count_purchases\n",
       "0    2053013552259662037               17\n",
       "1    2053013552293216471               13\n",
       "2    2053013552326770905               12\n",
       "3    2053013552351936731                2\n",
       "4    2053013552385491165                6\n",
       "..                   ...              ...\n",
       "220  2146551843914777018                1\n",
       "221  2146660887002349890                1\n",
       "222  2151563850841850061                1\n",
       "223  2164367422893589471                2\n",
       "224  2172371436436455782               14\n",
       "\n",
       "[225 rows x 2 columns]"
      ]
     },
     "execution_count": 14,
     "metadata": {},
     "output_type": "execute_result"
    },
    {
     "data": {
      "image/png": "[encoded data removed]",
      "text/plain": [
       "<Figure size 1296x432 with 1 Axes>"
      ]
     },
     "metadata": {
      "needs_background": "light"
     },
     "output_type": "display_data"
    }
   ],
   "source": [
    "# The following table shows how many times a product has been purchased for each category\n",
    "gc.collect()\n",
    "print(\"Below we can view both the table, for a better understanding, and the plot of the number of purchases of each category:\")\n",
    "purchasedProducts = pd.DataFrame(dataset[dataset.event_type == 'purchase'].groupby('category_id').product_id.count()).rename(columns={'product_id':'count_purchases'}).reset_index()\n",
    "\n",
    "purchasedProductsPlot = purchasedProducts.head(20).plot.bar(x = 'category_id', y = 'count_purchases', figsize=(18,6), xlabel = 'Category ID', ylabel = 'Purchased products', title= \"The number of purchases of each category\")\n",
    "#purchasedProductsPlot.axes.xaxis.set_ticklabels([])\n",
    "\n",
    "purchasedProducts"
   ]
  },
  {
   "cell_type": "code",
   "execution_count": 24,
   "metadata": {},
   "outputs": [
    {
     "name": "stdout",
     "output_type": "stream",
     "text": [
      "The conversion rate for each product category in decreasing order can be viewed in the table and plot below:\n"
     ]
    },
    {
     "data": {
      "image/png": "[encoded data removed]",
      "text/plain": [
       "<Figure size 864x432 with 1 Axes>"
      ]
     },
     "metadata": {
      "needs_background": "light"
     },
     "output_type": "display_data"
    }
   ],
   "source": [
    "# The following table shows how many times a product has been viewed for each category\n",
    "viewedProducts = pd.DataFrame(dataset[dataset.event_type == 'view'].groupby('category_id').product_id.count()).rename(columns={'product_id':'count_views'}).reset_index()\n",
    "\n",
    "# Join on the two tables\n",
    "mergedTable = purchasedProducts.join(viewedProducts.set_index('category_id'), on = 'category_id')\n",
    "#del purchasedProducts, viewedProducts\n",
    "\n",
    "# Add a new column to the table and calculate the conversion rate for each product category\n",
    "mergedTable['conversion_rate'] = mergedTable['count_purchases']/mergedTable['count_views']\n",
    "pd.options.display.float_format = '{:,.2f}'.format\n",
    "mergedTable = mergedTable.sort_values(by = 'conversion_rate', ascending = False)\n",
    "print('The conversion rate for each product category in decreasing order can be viewed in the table and plot below:')\n",
    "\n",
    "color = cm.gist_rainbow(np.linspace(.4, .8, 30))\n",
    "conversionRatePlot = mergedTable.head(20).plot.bar(x = 'category_id', xlabel = \"Category ID\", y = \"conversion_rate\", ylabel = \"Conversion rate\", figsize = (12,6), color=color, title='The conversion rate for each product category in decreasing order')"
   ]
  },
  {
   "cell_type": "markdown",
   "metadata": {},
   "source": [
    "### [RQ4.1] \n",
    "How much does each brand earn per month? Write a function that given the name of a brand in input returns, for each month, its profit. "
   ]
  },
  {
   "cell_type": "code",
   "execution_count": 3,
   "metadata": {
    "scrolled": false
   },
   "outputs": [],
   "source": [
    "gc.collect()\n",
    "\n",
    "# The function returns, for each month, the profit of the given brand\n",
    "def getProfitsPerMonth(brandName):\n",
    "    \n",
    "    # Select only the rows with the given brand name\n",
    "    brandedTable = pd.DataFrame(dataset[dataset.brand == brandName])\n",
    "\n",
    "    # Select only the rows with the selled item and calculate the total profit for each month\n",
    "    brandedTable = pd.DataFrame(brandedTable[dataset.event_type == 'purchase'].groupby(dataset.event_time.dt.month).price.sum()).rename(columns={'price':'profit'}).reset_index()\n",
    "\n",
    "        # Renaming the column for a better understanding of the output\n",
    "    brandedTable.columns = ['month','profit']\n",
    "  \n",
    "    return brandedTable"
   ]
  },
  {
   "cell_type": "code",
   "execution_count": 4,
   "metadata": {},
   "outputs": [
    {
     "name": "stdout",
     "output_type": "stream",
     "text": [
      "Please enter the name of the brand to return it's profit for each month.\n",
      "bosch\n",
      "The profit for the brand bosch for each month is the following:\n"
     ]
    },
    {
     "name": "stderr",
     "output_type": "stream",
     "text": [
      "<ipython-input-3-01f4dbc16244>:10: UserWarning: Boolean Series key will be reindexed to match DataFrame index.\n",
      "  brandedTable = pd.DataFrame(brandedTable[dataset.event_type == 'purchase'].groupby(dataset.event_time.dt.month).price.sum()).rename(columns={'price':'profit'}).reset_index()\n"
     ]
    },
    {
     "data": {
      "text/html": [
       "<div>\n",
       "<style scoped>\n",
       "    .dataframe tbody tr th:only-of-type {\n",
       "        vertical-align: middle;\n",
       "    }\n",
       "\n",
       "    .dataframe tbody tr th {\n",
       "        vertical-align: top;\n",
       "    }\n",
       "\n",
       "    .dataframe thead th {\n",
       "        text-align: right;\n",
       "    }\n",
       "</style>\n",
       "<table border=\"1\" class=\"dataframe\">\n",
       "  <thead>\n",
       "    <tr style=\"text-align: right;\">\n",
       "      <th></th>\n",
       "      <th>month</th>\n",
       "      <th>profit</th>\n",
       "    </tr>\n",
       "  </thead>\n",
       "  <tbody>\n",
       "    <tr>\n",
       "      <th>0</th>\n",
       "      <td>10</td>\n",
       "      <td>4550.02</td>\n",
       "    </tr>\n",
       "    <tr>\n",
       "      <th>1</th>\n",
       "      <td>11</td>\n",
       "      <td>2128.74</td>\n",
       "    </tr>\n",
       "  </tbody>\n",
       "</table>\n",
       "</div>"
      ],
      "text/plain": [
       "   month   profit\n",
       "0     10  4550.02\n",
       "1     11  2128.74"
      ]
     },
     "execution_count": 4,
     "metadata": {},
     "output_type": "execute_result"
    },
    {
     "data": {
      "image/png": "[encoded data removed]",
      "text/plain": [
       "<Figure size 432x288 with 1 Axes>"
      ]
     },
     "metadata": {
      "needs_background": "light"
     },
     "output_type": "display_data"
    }
   ],
   "source": [
    "# Input the name of the brand\n",
    "print(\"Please enter the name of the brand to return it's profit for each month.\")\n",
    "brandName = input()\n",
    "brandedTable = getProfitsPerMonth(brandName)\n",
    "\n",
    "# Outputting the profits of the given brand for each month\n",
    "print(\"The profit for the brand \" + brandName + \" for each month is the following:\")\n",
    "brandedTable.plot.bar(x='month',y='profit', xlabel='Month', ylabel='Profit', color=['r','orchid']).get_legend().remove()\n",
    "brandedTable\n"
   ]
  },
  {
   "cell_type": "markdown",
   "metadata": {},
   "source": [
    "### [RQ4.2] \n",
    "Is the average price of products of different brands significantly different?"
   ]
  },
  {
   "cell_type": "code",
   "execution_count": 5,
   "metadata": {},
   "outputs": [
    {
     "name": "stdout",
     "output_type": "stream",
     "text": [
      "The average price of products of different brands vary very much as we can observe from the table and plot below:\n"
     ]
    },
    {
     "data": {
      "text/html": [
       "<div>\n",
       "<style scoped>\n",
       "    .dataframe tbody tr th:only-of-type {\n",
       "        vertical-align: middle;\n",
       "    }\n",
       "\n",
       "    .dataframe tbody tr th {\n",
       "        vertical-align: top;\n",
       "    }\n",
       "\n",
       "    .dataframe thead th {\n",
       "        text-align: right;\n",
       "    }\n",
       "</style>\n",
       "<table border=\"1\" class=\"dataframe\">\n",
       "  <thead>\n",
       "    <tr style=\"text-align: right;\">\n",
       "      <th></th>\n",
       "      <th>brand</th>\n",
       "      <th>mean_price</th>\n",
       "    </tr>\n",
       "  </thead>\n",
       "  <tbody>\n",
       "    <tr>\n",
       "      <th>1368</th>\n",
       "      <td>pinarello</td>\n",
       "      <td>2,573.81</td>\n",
       "    </tr>\n",
       "    <tr>\n",
       "      <th>1169</th>\n",
       "      <td>minimotors</td>\n",
       "      <td>2,258.30</td>\n",
       "    </tr>\n",
       "    <tr>\n",
       "      <th>1429</th>\n",
       "      <td>rado</td>\n",
       "      <td>2,169.08</td>\n",
       "    </tr>\n",
       "    <tr>\n",
       "      <th>1545</th>\n",
       "      <td>schneider</td>\n",
       "      <td>2,165.76</td>\n",
       "    </tr>\n",
       "    <tr>\n",
       "      <th>668</th>\n",
       "      <td>fuel</td>\n",
       "      <td>1,930.55</td>\n",
       "    </tr>\n",
       "    <tr>\n",
       "      <th>...</th>\n",
       "      <td>...</td>\n",
       "      <td>...</td>\n",
       "    </tr>\n",
       "    <tr>\n",
       "      <th>685</th>\n",
       "      <td>garnier</td>\n",
       "      <td>1.74</td>\n",
       "    </tr>\n",
       "    <tr>\n",
       "      <th>952</th>\n",
       "      <td>kisswill</td>\n",
       "      <td>1.69</td>\n",
       "    </tr>\n",
       "    <tr>\n",
       "      <th>810</th>\n",
       "      <td>homeart</td>\n",
       "      <td>1.67</td>\n",
       "    </tr>\n",
       "    <tr>\n",
       "      <th>957</th>\n",
       "      <td>kleancolor</td>\n",
       "      <td>1.67</td>\n",
       "    </tr>\n",
       "    <tr>\n",
       "      <th>643</th>\n",
       "      <td>fitokosmetik</td>\n",
       "      <td>1.54</td>\n",
       "    </tr>\n",
       "  </tbody>\n",
       "</table>\n",
       "<p>1934 rows × 2 columns</p>\n",
       "</div>"
      ],
      "text/plain": [
       "             brand  mean_price\n",
       "1368     pinarello    2,573.81\n",
       "1169    minimotors    2,258.30\n",
       "1429          rado    2,169.08\n",
       "1545     schneider    2,165.76\n",
       "668           fuel    1,930.55\n",
       "...            ...         ...\n",
       "685        garnier        1.74\n",
       "952       kisswill        1.69\n",
       "810        homeart        1.67\n",
       "957     kleancolor        1.67\n",
       "643   fitokosmetik        1.54\n",
       "\n",
       "[1934 rows x 2 columns]"
      ]
     },
     "execution_count": 5,
     "metadata": {},
     "output_type": "execute_result"
    },
    {
     "data": {
      "image/png": "[encoded data removed]",
      "text/plain": [
       "<Figure size 1296x432 with 1 Axes>"
      ]
     },
     "metadata": {
      "needs_background": "light"
     },
     "output_type": "display_data"
    }
   ],
   "source": [
    "gc.collect()\n",
    " \n",
    "pd.options.display.float_format = '{:,.2f}'.format # Formatting the float values\n",
    "\n",
    "# Function that returns the mean price for all other brands different from the given one\n",
    "def getMeanPriceOfOtherBrands(brandName):\n",
    "    return pd.DataFrame(dataset[dataset.brand != brandName].groupby([dataset.brand]).price.mean()).\\\n",
    "                                                            rename(columns={'price':'mean_price'}). \\\n",
    "                                                            reset_index().sort_values(by = 'mean_price', ascending = False)\n",
    "\n",
    "meanPriceOfBrands = getMeanPriceOfOtherBrands(brandName)\n",
    "print('The average price of products of different brands vary very much as we can observe from the table and plot below:')\n",
    "\n",
    "color = cm.gist_ncar(np.linspace(.4, .8, 30))\n",
    "meanPriceOfBrandsPlot = meanPriceOfBrands.head(20).plot.bar(x='brand', y='mean_price', xlabel='Brand', ylabel='Mean price', \\\n",
    "                                                            title='The average price of products of different brands', \\\n",
    "                                                            figsize=(18,6), color=color)\n",
    "meanPriceOfBrands\n",
    "\n"
   ]
  },
  {
   "cell_type": "markdown",
   "metadata": {},
   "source": [
    "### [RQ4.3]\n",
    "Using the function you just created, find the top 3 brands that have suffered the biggest losses in earnings between one month and the next, specifing both the loss percentage and the 2 months (e.g., brand_1 lost 20% between march and april).\n",
    "\n",
    "**NOTE!!!**\n",
    "Since the analyzed data contains only the months October and November we will consider only these months for this exercise."
   ]
  },
  {
   "cell_type": "code",
   "execution_count": 6,
   "metadata": {
    "scrolled": true
   },
   "outputs": [
    {
     "data": {
      "text/html": [
       "<div>\n",
       "<style scoped>\n",
       "    .dataframe tbody tr th:only-of-type {\n",
       "        vertical-align: middle;\n",
       "    }\n",
       "\n",
       "    .dataframe tbody tr th {\n",
       "        vertical-align: top;\n",
       "    }\n",
       "\n",
       "    .dataframe thead th {\n",
       "        text-align: right;\n",
       "    }\n",
       "</style>\n",
       "<table border=\"1\" class=\"dataframe\">\n",
       "  <thead>\n",
       "    <tr style=\"text-align: right;\">\n",
       "      <th></th>\n",
       "      <th>brand</th>\n",
       "      <th>month</th>\n",
       "      <th>profits</th>\n",
       "    </tr>\n",
       "  </thead>\n",
       "  <tbody>\n",
       "    <tr>\n",
       "      <th>17</th>\n",
       "      <td>apple</td>\n",
       "      <td>10</td>\n",
       "      <td>205,297.10</td>\n",
       "    </tr>\n",
       "    <tr>\n",
       "      <th>18</th>\n",
       "      <td>apple</td>\n",
       "      <td>11</td>\n",
       "      <td>162,477.86</td>\n",
       "    </tr>\n",
       "    <tr>\n",
       "      <th>310</th>\n",
       "      <td>samsung</td>\n",
       "      <td>10</td>\n",
       "      <td>94,531.16</td>\n",
       "    </tr>\n",
       "    <tr>\n",
       "      <th>311</th>\n",
       "      <td>samsung</td>\n",
       "      <td>11</td>\n",
       "      <td>71,128.36</td>\n",
       "    </tr>\n",
       "    <tr>\n",
       "      <th>385</th>\n",
       "      <td>xiaomi</td>\n",
       "      <td>10</td>\n",
       "      <td>16,920.69</td>\n",
       "    </tr>\n",
       "    <tr>\n",
       "      <th>...</th>\n",
       "      <td>...</td>\n",
       "      <td>...</td>\n",
       "      <td>...</td>\n",
       "    </tr>\n",
       "    <tr>\n",
       "      <th>340</th>\n",
       "      <td>tarkett</td>\n",
       "      <td>10</td>\n",
       "      <td>5.79</td>\n",
       "    </tr>\n",
       "    <tr>\n",
       "      <th>356</th>\n",
       "      <td>transcend</td>\n",
       "      <td>10</td>\n",
       "      <td>5.12</td>\n",
       "    </tr>\n",
       "    <tr>\n",
       "      <th>166</th>\n",
       "      <td>ikea</td>\n",
       "      <td>10</td>\n",
       "      <td>4.35</td>\n",
       "    </tr>\n",
       "    <tr>\n",
       "      <th>298</th>\n",
       "      <td>ritmix</td>\n",
       "      <td>10</td>\n",
       "      <td>4.25</td>\n",
       "    </tr>\n",
       "    <tr>\n",
       "      <th>167</th>\n",
       "      <td>ikea</td>\n",
       "      <td>11</td>\n",
       "      <td>4.09</td>\n",
       "    </tr>\n",
       "  </tbody>\n",
       "</table>\n",
       "<p>393 rows × 3 columns</p>\n",
       "</div>"
      ],
      "text/plain": [
       "         brand  month    profits\n",
       "17       apple     10 205,297.10\n",
       "18       apple     11 162,477.86\n",
       "310    samsung     10  94,531.16\n",
       "311    samsung     11  71,128.36\n",
       "385     xiaomi     10  16,920.69\n",
       "..         ...    ...        ...\n",
       "340    tarkett     10       5.79\n",
       "356  transcend     10       5.12\n",
       "166       ikea     10       4.35\n",
       "298     ritmix     10       4.25\n",
       "167       ikea     11       4.09\n",
       "\n",
       "[393 rows x 3 columns]"
      ]
     },
     "execution_count": 6,
     "metadata": {},
     "output_type": "execute_result"
    }
   ],
   "source": [
    "gc.collect()\n",
    "\n",
    "# Select only the rows with the selled item and calculate the total profit for each month\n",
    "totalProfitsPerMonth = dataset[dataset.event_type == 'purchase'].groupby([dataset.brand, dataset.event_time.dt.month]).price.sum()\n",
    "\n",
    "# Renaming column of profits and sorting it's values\n",
    "totalProfitsPerMonth = pd.DataFrame(totalProfitsPerMonth).rename(columns = {'price':'profits'}).reset_index().sort_values(by = 'profits', ascending = False)\n",
    "\n",
    "# Renaming column of month \n",
    "totalProfitsPerMonth.rename(columns = {'event_time':'month'}, inplace=True)\n",
    "\n",
    "totalProfitsPerMonth\n"
   ]
  },
  {
   "cell_type": "code",
   "execution_count": 7,
   "metadata": {
    "scrolled": false
   },
   "outputs": [
    {
     "name": "stderr",
     "output_type": "stream",
     "text": [
      "<ipython-input-3-01f4dbc16244>:10: UserWarning: Boolean Series key will be reindexed to match DataFrame index.\n",
      "  brandedTable = pd.DataFrame(brandedTable[dataset.event_type == 'purchase'].groupby(dataset.event_time.dt.month).price.sum()).rename(columns={'price':'profit'}).reset_index()\n"
     ]
    },
    {
     "data": {
      "text/html": [
       "<div>\n",
       "<style scoped>\n",
       "    .dataframe tbody tr th:only-of-type {\n",
       "        vertical-align: middle;\n",
       "    }\n",
       "\n",
       "    .dataframe tbody tr th {\n",
       "        vertical-align: top;\n",
       "    }\n",
       "\n",
       "    .dataframe thead th {\n",
       "        text-align: right;\n",
       "    }\n",
       "</style>\n",
       "<table border=\"1\" class=\"dataframe\">\n",
       "  <thead>\n",
       "    <tr style=\"text-align: right;\">\n",
       "      <th></th>\n",
       "      <th>brand</th>\n",
       "      <th>losses_in_earnings</th>\n",
       "    </tr>\n",
       "  </thead>\n",
       "  <tbody>\n",
       "    <tr>\n",
       "      <th>0</th>\n",
       "      <td>shiseido</td>\n",
       "      <td>100</td>\n",
       "    </tr>\n",
       "    <tr>\n",
       "      <th>1330</th>\n",
       "      <td>babygo</td>\n",
       "      <td>100</td>\n",
       "    </tr>\n",
       "    <tr>\n",
       "      <th>1298</th>\n",
       "      <td>delmax</td>\n",
       "      <td>100</td>\n",
       "    </tr>\n",
       "  </tbody>\n",
       "</table>\n",
       "</div>"
      ],
      "text/plain": [
       "         brand losses_in_earnings\n",
       "0     shiseido                100\n",
       "1330    babygo                100\n",
       "1298    delmax                100"
      ]
     },
     "execution_count": 7,
     "metadata": {},
     "output_type": "execute_result"
    }
   ],
   "source": [
    "gc.collect()\n",
    "\n",
    "# List of unique brands\n",
    "arrOfBrands = dataset['brand'].dropna().unique().tolist()\n",
    "\n",
    "# Dataframe storing all the brands and their losses between October and November\n",
    "topBrands = pd.DataFrame(columns = ['brand', 'losses_in_earnings'])\n",
    "\n",
    "# Iterate per each brand of the dataset\n",
    "for br in arrOfBrands:\n",
    "    \n",
    "    # Call the function getProfitsPerMonth which will return a DataFrame containing the earnings of the brand for each month\n",
    "    profitsPerMonthOfABrand = getProfitsPerMonth(br)\n",
    "    \n",
    "    # Create dictionary for the brand\n",
    "    dicOfProfitsPerMonth = OrderedDict()\n",
    "    \n",
    "    # Iterate for each row of the returned dataframe which contains the earnings of the brand for each month\n",
    "    for index, row in profitsPerMonthOfABrand.iterrows():\n",
    "        month = int(row['month'])\n",
    "        profit = round(row['profit'], 2)\n",
    "        dicOfProfitsPerMonth[month] = profit\n",
    "\n",
    "    lossBetweenTwoMonths = 0 \n",
    "    \n",
    "    # Controlling of the brand has profits in October and November\n",
    "    if len(dicOfProfitsPerMonth) == 2:\n",
    "        lossBetweenTwoMonths = abs(dicOfProfitsPerMonth[11] - dicOfProfitsPerMonth[10]) / dicOfProfitsPerMonth[10]\n",
    "    # The brand has registered profits only in one of the two months\n",
    "    else:\n",
    "        lossBetweenTwoMonths = 100\n",
    "    \n",
    "    # Appending a new row contaning the name of the brand and the percentage loss\n",
    "    topBrands = topBrands.append({'brand': br, 'losses_in_earnings': lossBetweenTwoMonths}, ignore_index = True)\n",
    "    \n",
    "topBrands.sort_values(by = 'losses_in_earnings', ascending = False, inplace = True)\n",
    "\n",
    "topThreeBrands = pd.DataFrame(topBrands.head(3))\n",
    "\n",
    "topThreeBrands\n"
   ]
  },
  {
   "cell_type": "code",
   "execution_count": 26,
   "metadata": {},
   "outputs": [
    {
     "name": "stdout",
     "output_type": "stream",
     "text": [
      "The brand Shiseido lost 100% between the months October and November.\n",
      "The brand Babygo lost 100% between the months October and November.\n",
      "The brand Delmax lost 100% between the months October and November.\n"
     ]
    },
    {
     "data": {
      "image/png": "[encoded data removed]",
      "text/plain": [
       "<Figure size 432x288 with 1 Axes>"
      ]
     },
     "metadata": {
      "needs_background": "light"
     },
     "output_type": "display_data"
    }
   ],
   "source": [
    "# Plotting the top three brands that have suffered the biggest losses in earnings between October and November\n",
    "color = cm.flag(np.linspace(.140, .10, 12))\n",
    "topThreeBrands.plot.bar(x='brand', y='losses_in_earnings', xlabel='Brand', ylabel='Losses in earnings (%)', \\\n",
    "                        title='The top three brands that have suffered the biggest losses in earnings between October and November',\\\n",
    "                       color=color).get_legend().remove()\n",
    "\n",
    "for index, row in topThreeBrands.iterrows():\n",
    "    print('The brand '+ row['brand'].capitalize() + ' lost ' + str(row['losses_in_earnings']) + '% between the months ' + 'October' + ' and ' + 'November' + '.' )"
   ]
  }
 ],
 "metadata": {
  "kernelspec": {
   "display_name": "Python 3",
   "language": "python",
   "name": "python3"
  },
  "language_info": {
   "codemirror_mode": {
    "name": "ipython",
    "version": 3
   },
   "file_extension": ".py",
   "mimetype": "text/x-python",
   "name": "python",
   "nbconvert_exporter": "python",
   "pygments_lexer": "ipython3",
   "version": "3.8.3"
  }
 },
 "nbformat": 4,
 "nbformat_minor": 4
}
