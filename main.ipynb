{
 "cells": [
  {
   "cell_type": "markdown",
   "metadata": {},
   "source": [
    "# Homework 2 - eCommerce analytics"
   ]
  },
  {
   "cell_type": "markdown",
   "metadata": {},
   "source": [
    "*Authors:*\n",
    "- _Tansel Simsek_\n",
    "- _Andrea Carella_\n",
    "- _Adrienn Timea Aszalos_\n",
    "\n",
    "Date: 08.11.2020\n"
   ]
  },
  {
   "cell_type": "markdown",
   "metadata": {},
   "source": [
    "## Introduction to the homework"
   ]
  },
  {
   "cell_type": "markdown",
   "metadata": {},
   "source": [
    "<font size=\"2\">E-commerce, also known as electronic commerce or internet commerce, refers to the buying and selling of goods or services using the internet, and the transfer of money and data to execute these transactions. The first e-commerce implementations date back to the 1990s and since then, millions of people every day visit some e-commerce sites to look for some product or service and, eventually, to purchase it.\n",
    "\n",
    "You have been hired as a data scientist from a big multi-category online store. You and your team have been required to perform an analysis of the customer behavior in the store. Each row in the dataset represents an event, which catches different interactions (views, a product added/removed to/from the cart, purchases) of customers with your e-commerce. All events are related to products and users.\n",
    "\n",
    "Your goal is to answer some research questions (RQs) that may help us discover and interpret meaningful patterns in data and eventually increase the number of sales.</font>"
   ]
  },
  {
   "cell_type": "markdown",
   "metadata": {},
   "source": [
    "## Libraries"
   ]
  },
  {
   "cell_type": "code",
   "execution_count": 53,
   "metadata": {},
   "outputs": [],
   "source": [
    "import pandas as pd\n",
    "import matplotlib.pyplot as plt\n",
    "import numpy as np\n",
    "import gc # Garbage Collector\n",
    "from collections import OrderedDict "
   ]
  },
  {
   "cell_type": "markdown",
   "metadata": {},
   "source": [
    "## Importing datasets"
   ]
  },
  {
   "cell_type": "markdown",
   "metadata": {},
   "source": [
    "<font size=\"3\">**NOTE!!!** \n",
    "    The _**category_code**_  and _**brand**_ columns of the dataset may have missing values.</font>"
   ]
  },
  {
   "cell_type": "code",
   "execution_count": 103,
   "metadata": {},
   "outputs": [
    {
     "data": {
      "text/plain": [
       "22"
      ]
     },
     "execution_count": 103,
     "metadata": {},
     "output_type": "execute_result"
    }
   ],
   "source": [
    "# Importing the file 2019-Oct.csv and converting the values of the column \"event_time\" from string to type datetime64\n",
    "\n",
    "dataset = pd.read_csv('./data/2019-Oct.csv', \n",
    "                      header='infer', \n",
    "                      parse_dates=['event_time'],\n",
    "                     date_parser=pd.to_datetime, nrows=1000)\n",
    "\n",
    "# Using this method in order to force the system to try to reclaim the maximum amount of available memory\n",
    "gc.collect()"
   ]
  },
  {
   "cell_type": "code",
   "execution_count": 104,
   "metadata": {},
   "outputs": [
    {
     "data": {
      "text/plain": [
       "0"
      ]
     },
     "execution_count": 104,
     "metadata": {},
     "output_type": "execute_result"
    }
   ],
   "source": [
    "# Importing the file 2019-Nov.csv and converting the values of the column \"event_time\" from string to timestamp\n",
    "\n",
    "dataset_nov = pd.read_csv('./data/2019-Nov.csv', \n",
    "                      header='infer', \n",
    "                      parse_dates=['event_time'],\n",
    "                     date_parser=pd.to_datetime, nrows=1000)\n",
    "\n",
    "# Using this method in order to force the system to try to reclaim the maximum amount of available memory\n",
    "gc.collect()"
   ]
  },
  {
   "cell_type": "code",
   "execution_count": 105,
   "metadata": {
    "scrolled": true
   },
   "outputs": [
    {
     "data": {
      "text/plain": [
       "20"
      ]
     },
     "execution_count": 105,
     "metadata": {},
     "output_type": "execute_result"
    }
   ],
   "source": [
    "# Merging the two datasets into one single dataset and storing the final data into an existing variable in order \n",
    "# to use as little memory as possible\n",
    "dataset = dataset.append(dataset_nov).reset_index()\n",
    "\n",
    "# Deleting the unused variable in order to free memory space\n",
    "del dataset_nov\n",
    "\n",
    "# Using this method in order to force the system to try to reclaim the maximum amount of available memory\n",
    "gc.collect()"
   ]
  },
  {
   "cell_type": "code",
   "execution_count": 106,
   "metadata": {},
   "outputs": [],
   "source": [
    "# Storing the data into a pickle file in order to procees it more rapidly instead of processing the two csv files each time \n",
    "# we start the session in Jupiter\n",
    "dataset.to_pickle(\"data/mergedata\")"
   ]
  },
  {
   "cell_type": "code",
   "execution_count": 107,
   "metadata": {},
   "outputs": [],
   "source": [
    "dataset = pd.read_pickle(\"data/mergedata\")"
   ]
  },
  {
   "cell_type": "markdown",
   "metadata": {},
   "source": [
    "## Let's visualize and know our dataset"
   ]
  },
  {
   "cell_type": "markdown",
   "metadata": {},
   "source": [
    "Viewing the structure of the dataset"
   ]
  },
  {
   "cell_type": "code",
   "execution_count": 9,
   "metadata": {},
   "outputs": [
    {
     "data": {
      "text/html": [
       "<div>\n",
       "<style scoped>\n",
       "    .dataframe tbody tr th:only-of-type {\n",
       "        vertical-align: middle;\n",
       "    }\n",
       "\n",
       "    .dataframe tbody tr th {\n",
       "        vertical-align: top;\n",
       "    }\n",
       "\n",
       "    .dataframe thead th {\n",
       "        text-align: right;\n",
       "    }\n",
       "</style>\n",
       "<table border=\"1\" class=\"dataframe\">\n",
       "  <thead>\n",
       "    <tr style=\"text-align: right;\">\n",
       "      <th></th>\n",
       "      <th>index</th>\n",
       "      <th>event_time</th>\n",
       "      <th>event_type</th>\n",
       "      <th>product_id</th>\n",
       "      <th>category_id</th>\n",
       "      <th>category_code</th>\n",
       "      <th>brand</th>\n",
       "      <th>price</th>\n",
       "      <th>user_id</th>\n",
       "      <th>user_session</th>\n",
       "    </tr>\n",
       "  </thead>\n",
       "  <tbody>\n",
       "    <tr>\n",
       "      <th>0</th>\n",
       "      <td>0</td>\n",
       "      <td>2019-10-01 00:00:00+00:00</td>\n",
       "      <td>view</td>\n",
       "      <td>44600062</td>\n",
       "      <td>2103807459595387724</td>\n",
       "      <td>NaN</td>\n",
       "      <td>shiseido</td>\n",
       "      <td>35.79</td>\n",
       "      <td>541312140</td>\n",
       "      <td>72d76fde-8bb3-4e00-8c23-a032dfed738c</td>\n",
       "    </tr>\n",
       "    <tr>\n",
       "      <th>1</th>\n",
       "      <td>1</td>\n",
       "      <td>2019-10-01 00:00:00+00:00</td>\n",
       "      <td>view</td>\n",
       "      <td>3900821</td>\n",
       "      <td>2053013552326770905</td>\n",
       "      <td>appliances.environment.water_heater</td>\n",
       "      <td>aqua</td>\n",
       "      <td>33.20</td>\n",
       "      <td>554748717</td>\n",
       "      <td>9333dfbd-b87a-4708-9857-6336556b0fcc</td>\n",
       "    </tr>\n",
       "    <tr>\n",
       "      <th>2</th>\n",
       "      <td>2</td>\n",
       "      <td>2019-10-01 00:00:01+00:00</td>\n",
       "      <td>view</td>\n",
       "      <td>17200506</td>\n",
       "      <td>2053013559792632471</td>\n",
       "      <td>furniture.living_room.sofa</td>\n",
       "      <td>NaN</td>\n",
       "      <td>543.10</td>\n",
       "      <td>519107250</td>\n",
       "      <td>566511c2-e2e3-422b-b695-cf8e6e792ca8</td>\n",
       "    </tr>\n",
       "    <tr>\n",
       "      <th>3</th>\n",
       "      <td>3</td>\n",
       "      <td>2019-10-01 00:00:01+00:00</td>\n",
       "      <td>view</td>\n",
       "      <td>1307067</td>\n",
       "      <td>2053013558920217191</td>\n",
       "      <td>computers.notebook</td>\n",
       "      <td>lenovo</td>\n",
       "      <td>251.74</td>\n",
       "      <td>550050854</td>\n",
       "      <td>7c90fc70-0e80-4590-96f3-13c02c18c713</td>\n",
       "    </tr>\n",
       "    <tr>\n",
       "      <th>4</th>\n",
       "      <td>4</td>\n",
       "      <td>2019-10-01 00:00:04+00:00</td>\n",
       "      <td>view</td>\n",
       "      <td>1004237</td>\n",
       "      <td>2053013555631882655</td>\n",
       "      <td>electronics.smartphone</td>\n",
       "      <td>apple</td>\n",
       "      <td>1081.98</td>\n",
       "      <td>535871217</td>\n",
       "      <td>c6bd7419-2748-4c56-95b4-8cec9ff8b80d</td>\n",
       "    </tr>\n",
       "  </tbody>\n",
       "</table>\n",
       "</div>"
      ],
      "text/plain": [
       "   index                event_time event_type  product_id  \\\n",
       "0      0 2019-10-01 00:00:00+00:00       view    44600062   \n",
       "1      1 2019-10-01 00:00:00+00:00       view     3900821   \n",
       "2      2 2019-10-01 00:00:01+00:00       view    17200506   \n",
       "3      3 2019-10-01 00:00:01+00:00       view     1307067   \n",
       "4      4 2019-10-01 00:00:04+00:00       view     1004237   \n",
       "\n",
       "           category_id                        category_code     brand  \\\n",
       "0  2103807459595387724                                  NaN  shiseido   \n",
       "1  2053013552326770905  appliances.environment.water_heater      aqua   \n",
       "2  2053013559792632471           furniture.living_room.sofa       NaN   \n",
       "3  2053013558920217191                   computers.notebook    lenovo   \n",
       "4  2053013555631882655               electronics.smartphone     apple   \n",
       "\n",
       "     price    user_id                          user_session  \n",
       "0    35.79  541312140  72d76fde-8bb3-4e00-8c23-a032dfed738c  \n",
       "1    33.20  554748717  9333dfbd-b87a-4708-9857-6336556b0fcc  \n",
       "2   543.10  519107250  566511c2-e2e3-422b-b695-cf8e6e792ca8  \n",
       "3   251.74  550050854  7c90fc70-0e80-4590-96f3-13c02c18c713  \n",
       "4  1081.98  535871217  c6bd7419-2748-4c56-95b4-8cec9ff8b80d  "
      ]
     },
     "execution_count": 9,
     "metadata": {},
     "output_type": "execute_result"
    }
   ],
   "source": [
    "dataset.head()"
   ]
  },
  {
   "cell_type": "markdown",
   "metadata": {},
   "source": [
    "The columns of our dataset are the following:\n",
    "- _event_time:_ Time when event happened at (in UTC).\n",
    "- _event_type:_\n",
    "    \n",
    "    Events can be:\n",
    "\n",
    "    - view - a user viewed a product\n",
    "    - cart - a user added a product to shopping cart\n",
    "    - removefromcart - a user removed a product from shopping cart\n",
    "    - purchase - a user purchased a product\n",
    "\n",
    "    Typical funnel: view => cart => purchase.\n",
    "    \n",
    "\n",
    "- _product_id:_ ID of a product\n",
    "- _category_id:_ Product's category ID\n",
    "- _category_code:_ Product's category taxonomy (code name) if it was possible to make it. Usually present for meaningful categories and skipped for different kinds of accessories.\n",
    "- _brand:_ Downcased string of brand name. Can be missed. \n",
    "- _price:_ Float price of a product. Present.\n",
    "- _user_id:_ Permanent user ID.\n",
    "- _user_session:_ Temporary user's session ID. Same for each user's session. Is changed every time user come back to online store from a long pause.\n",
    "\n",
    "**NOTE!!!** \n",
    "- The columns:\n",
    "    - **_brand_**,\n",
    "    - _**category_code**_ may **contain missing values**\n",
    "- The value **_removefromcart_** of the column *event_type* **is missing**."
   ]
  },
  {
   "cell_type": "code",
   "execution_count": 11,
   "metadata": {},
   "outputs": [
    {
     "data": {
      "text/plain": [
       "Index(['index', 'event_time', 'event_type', 'product_id', 'category_id',\n",
       "       'category_code', 'brand', 'price', 'user_id', 'user_session'],\n",
       "      dtype='object')"
      ]
     },
     "execution_count": 11,
     "metadata": {},
     "output_type": "execute_result"
    }
   ],
   "source": [
    "dataset.columns"
   ]
  },
  {
   "cell_type": "code",
   "execution_count": 12,
   "metadata": {},
   "outputs": [
    {
     "name": "stdout",
     "output_type": "stream",
     "text": [
      "The dataset is composed of 2400000 rows and 10 columns.\n"
     ]
    }
   ],
   "source": [
    "print('The dataset is composed of ' + str(dataset.shape[0]) + ' rows and ' + str(dataset.shape[1]) + ' columns.')"
   ]
  },
  {
   "cell_type": "markdown",
   "metadata": {},
   "source": [
    "## Generating a descriptive statistics about the dataframe:"
   ]
  },
  {
   "cell_type": "code",
   "execution_count": 13,
   "metadata": {},
   "outputs": [
    {
     "data": {
      "text/html": [
       "<div>\n",
       "<style scoped>\n",
       "    .dataframe tbody tr th:only-of-type {\n",
       "        vertical-align: middle;\n",
       "    }\n",
       "\n",
       "    .dataframe tbody tr th {\n",
       "        vertical-align: top;\n",
       "    }\n",
       "\n",
       "    .dataframe thead th {\n",
       "        text-align: right;\n",
       "    }\n",
       "</style>\n",
       "<table border=\"1\" class=\"dataframe\">\n",
       "  <thead>\n",
       "    <tr style=\"text-align: right;\">\n",
       "      <th></th>\n",
       "      <th>index</th>\n",
       "      <th>event_time</th>\n",
       "      <th>event_type</th>\n",
       "      <th>product_id</th>\n",
       "      <th>category_id</th>\n",
       "      <th>category_code</th>\n",
       "      <th>brand</th>\n",
       "      <th>price</th>\n",
       "      <th>user_id</th>\n",
       "      <th>user_session</th>\n",
       "    </tr>\n",
       "  </thead>\n",
       "  <tbody>\n",
       "    <tr>\n",
       "      <th>count</th>\n",
       "      <td>2.400000e+06</td>\n",
       "      <td>2400000</td>\n",
       "      <td>2400000</td>\n",
       "      <td>2.400000e+06</td>\n",
       "      <td>2.400000e+06</td>\n",
       "      <td>1632230</td>\n",
       "      <td>2041636</td>\n",
       "      <td>2.400000e+06</td>\n",
       "      <td>2.400000e+06</td>\n",
       "      <td>2400000</td>\n",
       "    </tr>\n",
       "    <tr>\n",
       "      <th>unique</th>\n",
       "      <td>NaN</td>\n",
       "      <td>NaN</td>\n",
       "      <td>3</td>\n",
       "      <td>NaN</td>\n",
       "      <td>NaN</td>\n",
       "      <td>126</td>\n",
       "      <td>2984</td>\n",
       "      <td>NaN</td>\n",
       "      <td>NaN</td>\n",
       "      <td>537771</td>\n",
       "    </tr>\n",
       "    <tr>\n",
       "      <th>top</th>\n",
       "      <td>NaN</td>\n",
       "      <td>NaN</td>\n",
       "      <td>view</td>\n",
       "      <td>NaN</td>\n",
       "      <td>NaN</td>\n",
       "      <td>electronics.smartphone</td>\n",
       "      <td>samsung</td>\n",
       "      <td>NaN</td>\n",
       "      <td>NaN</td>\n",
       "      <td>4488e77a-9901-4c4b-b162-47a224ceab51</td>\n",
       "    </tr>\n",
       "    <tr>\n",
       "      <th>freq</th>\n",
       "      <td>NaN</td>\n",
       "      <td>NaN</td>\n",
       "      <td>2328239</td>\n",
       "      <td>NaN</td>\n",
       "      <td>NaN</td>\n",
       "      <td>647537</td>\n",
       "      <td>290497</td>\n",
       "      <td>NaN</td>\n",
       "      <td>NaN</td>\n",
       "      <td>504</td>\n",
       "    </tr>\n",
       "    <tr>\n",
       "      <th>mean</th>\n",
       "      <td>5.999995e+05</td>\n",
       "      <td>2019-10-16 23:03:14.677083392+00:00</td>\n",
       "      <td>NaN</td>\n",
       "      <td>1.062967e+07</td>\n",
       "      <td>2.057043e+18</td>\n",
       "      <td>NaN</td>\n",
       "      <td>NaN</td>\n",
       "      <td>2.947177e+02</td>\n",
       "      <td>5.332339e+08</td>\n",
       "      <td>NaN</td>\n",
       "    </tr>\n",
       "    <tr>\n",
       "      <th>min</th>\n",
       "      <td>0.000000e+00</td>\n",
       "      <td>2019-10-01 00:00:00+00:00</td>\n",
       "      <td>NaN</td>\n",
       "      <td>1.000978e+06</td>\n",
       "      <td>2.053014e+18</td>\n",
       "      <td>NaN</td>\n",
       "      <td>NaN</td>\n",
       "      <td>0.000000e+00</td>\n",
       "      <td>2.449511e+08</td>\n",
       "      <td>NaN</td>\n",
       "    </tr>\n",
       "    <tr>\n",
       "      <th>25%</th>\n",
       "      <td>2.999998e+05</td>\n",
       "      <td>2019-10-01 11:54:56+00:00</td>\n",
       "      <td>NaN</td>\n",
       "      <td>1.005158e+06</td>\n",
       "      <td>2.053014e+18</td>\n",
       "      <td>NaN</td>\n",
       "      <td>NaN</td>\n",
       "      <td>6.687000e+01</td>\n",
       "      <td>5.158089e+08</td>\n",
       "      <td>NaN</td>\n",
       "    </tr>\n",
       "    <tr>\n",
       "      <th>50%</th>\n",
       "      <td>5.999995e+05</td>\n",
       "      <td>2019-10-16 22:03:32.500000+00:00</td>\n",
       "      <td>NaN</td>\n",
       "      <td>5.100450e+06</td>\n",
       "      <td>2.053014e+18</td>\n",
       "      <td>NaN</td>\n",
       "      <td>NaN</td>\n",
       "      <td>1.670600e+02</td>\n",
       "      <td>5.290694e+08</td>\n",
       "      <td>NaN</td>\n",
       "    </tr>\n",
       "    <tr>\n",
       "      <th>75%</th>\n",
       "      <td>8.999992e+05</td>\n",
       "      <td>2019-11-01 10:36:49+00:00</td>\n",
       "      <td>NaN</td>\n",
       "      <td>1.650001e+07</td>\n",
       "      <td>2.053014e+18</td>\n",
       "      <td>NaN</td>\n",
       "      <td>NaN</td>\n",
       "      <td>3.621000e+02</td>\n",
       "      <td>5.507270e+08</td>\n",
       "      <td>NaN</td>\n",
       "    </tr>\n",
       "    <tr>\n",
       "      <th>max</th>\n",
       "      <td>1.199999e+06</td>\n",
       "      <td>2019-11-01 17:29:23+00:00</td>\n",
       "      <td>NaN</td>\n",
       "      <td>6.170001e+07</td>\n",
       "      <td>2.180737e+18</td>\n",
       "      <td>NaN</td>\n",
       "      <td>NaN</td>\n",
       "      <td>2.574070e+03</td>\n",
       "      <td>5.665404e+08</td>\n",
       "      <td>NaN</td>\n",
       "    </tr>\n",
       "    <tr>\n",
       "      <th>std</th>\n",
       "      <td>3.464102e+05</td>\n",
       "      <td>NaN</td>\n",
       "      <td>NaN</td>\n",
       "      <td>1.173096e+07</td>\n",
       "      <td>1.762606e+16</td>\n",
       "      <td>NaN</td>\n",
       "      <td>NaN</td>\n",
       "      <td>3.591903e+02</td>\n",
       "      <td>1.865554e+07</td>\n",
       "      <td>NaN</td>\n",
       "    </tr>\n",
       "  </tbody>\n",
       "</table>\n",
       "</div>"
      ],
      "text/plain": [
       "               index                           event_time event_type  \\\n",
       "count   2.400000e+06                              2400000    2400000   \n",
       "unique           NaN                                  NaN          3   \n",
       "top              NaN                                  NaN       view   \n",
       "freq             NaN                                  NaN    2328239   \n",
       "mean    5.999995e+05  2019-10-16 23:03:14.677083392+00:00        NaN   \n",
       "min     0.000000e+00            2019-10-01 00:00:00+00:00        NaN   \n",
       "25%     2.999998e+05            2019-10-01 11:54:56+00:00        NaN   \n",
       "50%     5.999995e+05     2019-10-16 22:03:32.500000+00:00        NaN   \n",
       "75%     8.999992e+05            2019-11-01 10:36:49+00:00        NaN   \n",
       "max     1.199999e+06            2019-11-01 17:29:23+00:00        NaN   \n",
       "std     3.464102e+05                                  NaN        NaN   \n",
       "\n",
       "          product_id   category_id           category_code    brand  \\\n",
       "count   2.400000e+06  2.400000e+06                 1632230  2041636   \n",
       "unique           NaN           NaN                     126     2984   \n",
       "top              NaN           NaN  electronics.smartphone  samsung   \n",
       "freq             NaN           NaN                  647537   290497   \n",
       "mean    1.062967e+07  2.057043e+18                     NaN      NaN   \n",
       "min     1.000978e+06  2.053014e+18                     NaN      NaN   \n",
       "25%     1.005158e+06  2.053014e+18                     NaN      NaN   \n",
       "50%     5.100450e+06  2.053014e+18                     NaN      NaN   \n",
       "75%     1.650001e+07  2.053014e+18                     NaN      NaN   \n",
       "max     6.170001e+07  2.180737e+18                     NaN      NaN   \n",
       "std     1.173096e+07  1.762606e+16                     NaN      NaN   \n",
       "\n",
       "               price       user_id                          user_session  \n",
       "count   2.400000e+06  2.400000e+06                               2400000  \n",
       "unique           NaN           NaN                                537771  \n",
       "top              NaN           NaN  4488e77a-9901-4c4b-b162-47a224ceab51  \n",
       "freq             NaN           NaN                                   504  \n",
       "mean    2.947177e+02  5.332339e+08                                   NaN  \n",
       "min     0.000000e+00  2.449511e+08                                   NaN  \n",
       "25%     6.687000e+01  5.158089e+08                                   NaN  \n",
       "50%     1.670600e+02  5.290694e+08                                   NaN  \n",
       "75%     3.621000e+02  5.507270e+08                                   NaN  \n",
       "max     2.574070e+03  5.665404e+08                                   NaN  \n",
       "std     3.591903e+02  1.865554e+07                                   NaN  "
      ]
     },
     "execution_count": 13,
     "metadata": {},
     "output_type": "execute_result"
    }
   ],
   "source": [
    "dataset.describe(datetime_is_numeric=True, include='all')"
   ]
  },
  {
   "cell_type": "markdown",
   "metadata": {},
   "source": [
    "## Managing missing data values"
   ]
  },
  {
   "cell_type": "code",
   "execution_count": 14,
   "metadata": {},
   "outputs": [
    {
     "name": "stdout",
     "output_type": "stream",
     "text": [
      "There are 358364 rows that present missing values in the column brand.\n"
     ]
    }
   ],
   "source": [
    "print('There are ' + str(dataset['brand'].isnull().sum()) + ' rows that present missing values in the column brand.')"
   ]
  },
  {
   "cell_type": "code",
   "execution_count": 15,
   "metadata": {},
   "outputs": [
    {
     "name": "stdout",
     "output_type": "stream",
     "text": [
      "There are 767770 rows that present missing values in the column category_code.\n"
     ]
    }
   ],
   "source": [
    "print('There are ' + str(dataset['category_code'].isnull().sum()) + ' rows that present missing values in the column category_code.')"
   ]
  },
  {
   "cell_type": "code",
   "execution_count": 16,
   "metadata": {},
   "outputs": [
    {
     "name": "stdout",
     "output_type": "stream",
     "text": [
      "The total number of the rows containing missing values is: 905336.\n"
     ]
    }
   ],
   "source": [
    "print('The total number of the rows containing missing values is: ' + str(dataset.isnull().any(axis=1).sum()) + '.')"
   ]
  },
  {
   "cell_type": "code",
   "execution_count": 17,
   "metadata": {},
   "outputs": [
    {
     "name": "stdout",
     "output_type": "stream",
     "text": [
      "The percentage of missing value in the original dataset is: 0.38%.\n"
     ]
    }
   ],
   "source": [
    "print('The percentage of missing value in the original dataset is: ' + str(round(dataset.isnull().any(axis=1).sum()/len(dataset),2)) + '%.')"
   ]
  },
  {
   "cell_type": "markdown",
   "metadata": {},
   "source": [
    "**Why did we chose to maintain the NaN values**\n",
    "\n",
    "Since the less populated values are the ones of the attributes *category_code* and *brand* we opt to maintain the missing values (NaN) without replacing them or filling them with other values, because it doesn't make much sense to impute values for a category code or/and a brand name.\n",
    "\n",
    "If we would have performed machine learning techniques then in that case we would have filled in the missing values.\n",
    "Also we excluded the removal of the missing data because the percentage of it was very high (see cell above)."
   ]
  },
  {
   "cell_type": "markdown",
   "metadata": {},
   "source": [
    "## Research questions"
   ]
  },
  {
   "cell_type": "markdown",
   "metadata": {},
   "source": [
    "### [RQ1] \n",
    "\n",
    "**INTRO**\n",
    "\n",
    "A marketing funnel describes your customer’s journey with your e-commerce. It may involve different stages, beginning when someone learns about your business, when he/she visits your website for the first time, to the purchasing stage, marketing funnels map routes to conversion and beyond. Suppose your funnel involves just three simple steps: 1) view, 2) cart, 3) purchase. "
   ]
  },
  {
   "cell_type": "markdown",
   "metadata": {},
   "source": [
    "### [RQ1.0] \n",
    "Which is the rate of complete funnels?\n"
   ]
  },
  {
   "cell_type": "code",
   "execution_count": 19,
   "metadata": {
    "scrolled": true
   },
   "outputs": [
    {
     "name": "stdout",
     "output_type": "stream",
     "text": [
      "The complete funnel rate is: 1%\n"
     ]
    }
   ],
   "source": [
    "gc.collect()\n",
    "\n",
    "# Group dataset by product_id, user_session and event_type and count the occurrences of each event type\n",
    "completeFunnel = dataset.groupby(['product_id', 'user_session', 'event_type']).event_type.count()\n",
    "\n",
    "# Convert obtained GroupBy Series into a Dataframe in order to rename the name of the column \n",
    "# containing the occurrences for each event type\n",
    "completeFunnel = pd.DataFrame(completeFunnel).rename(columns={'event_type':'count'}).reset_index()\n",
    "\n",
    "gc.collect()\n",
    "\n",
    "# Group dataset by product_id and user_session and count the occurrences of each user session \n",
    "completeFunnel = completeFunnel.groupby(['product_id','user_session']).user_session.count()\n",
    "\n",
    "# Convert obtained GroupBy Series into a Dataframe in order to rename the name of the column \n",
    "# containing the occurrences for each user session\n",
    "completeFunnel = pd.DataFrame(completeFunnel).rename(columns={'user_session':'count'}).reset_index()\n",
    "\n",
    "gc.collect()\n",
    "\n",
    "# Total number of rows containing the occurrences of each user session\n",
    "N = int(completeFunnel.shape[0])\n",
    "\n",
    "# Number of all the rowss containing all the three steps (view, cart, purchase) per session\n",
    "n = completeFunnel[completeFunnel['count'] == 3].shape[0]\n",
    "\n",
    "# Calculate the rate of complete funnels \n",
    "completeFunnelRate = round(n*100/N)\n",
    "\n",
    "print(\"The complete funnel rate is:\", str(completeFunnelRate) + '%')\n",
    "\n",
    "# Delete variable to free RAM\n",
    "del completeFunnel, N, n"
   ]
  },
  {
   "cell_type": "markdown",
   "metadata": {},
   "source": [
    "### [RQ1.1]\n",
    "\n",
    "What’s the operation users repeat more on average within a session? Produce a plot that shows the average number of times users perform each operation (view/removefromchart etc etc)."
   ]
  },
  {
   "cell_type": "code",
   "execution_count": 22,
   "metadata": {},
   "outputs": [
    {
     "name": "stdout",
     "output_type": "stream",
     "text": [
      "From the plot we can deduce the following informations:\n",
      "\n",
      "1. The most repetead operation is: view.\n",
      "2. The average number of cart operations per session is: 0.06\n",
      "3. The average number of purchase operations per session is: 0.07\n",
      "4. The average number of view operations per session is: 4.33\n",
      "5. The average number of removefromcart operations per session is: 0\n"
     ]
    },
    {
     "data": {
      "image/png": "[encoded data removed]",
      "text/plain": [
       "<Figure size 432x288 with 1 Axes>"
      ]
     },
     "metadata": {
      "needs_background": "light"
     },
     "output_type": "display_data"
    }
   ],
   "source": [
    "gc.collect()\n",
    "# Grouping the data by the event types and counting the number of occurrences for each event:\n",
    "totalOperationsPerEventType = dataset.groupby('event_type').event_type.count()\n",
    "\n",
    "# Converting the dataset into an array and dividing each element of the array by the total unique numbers of sessions\n",
    "# in order to obtain the average number of operations per event type\n",
    "averageNumberOfOperationsPerSession = totalOperationsPerEventType.to_numpy()/dataset.user_session.nunique()\n",
    "\n",
    "# Getting the unique names of the event types \n",
    "eventTypes = sorted(dataset.event_type.unique())\n",
    "\n",
    "# Plotting the average number of times users perform each operation (view/removefromchart etc etc)\n",
    "plt.plot(eventTypes,averageNumberOfOperationsPerSession)\n",
    "\n",
    "print(\"From the plot we can deduce the following informations:\" + '\\n')\n",
    "print(\"1. The most repetead operation is:\", str(eventTypes[len(eventTypes)-1]) + \".\")\n",
    "print(\"2. The average number of cart operations per session is: \" + str(round(averageNumberOfOperationsPerSession[0],2)))\n",
    "print(\"3. The average number of purchase operations per session is: \" + str(round(averageNumberOfOperationsPerSession[1],2)))\n",
    "print(\"4. The average number of view operations per session is: \" + str(round(averageNumberOfOperationsPerSession[2],2)))\n",
    "print(\"5. The average number of removefromcart operations per session is: \" + str(0))\n",
    "\n",
    "del totalOperationsPerEventType, averageNumberOfOperationsPerSession, eventTypes"
   ]
  },
  {
   "cell_type": "markdown",
   "metadata": {},
   "source": [
    "### [RQ6.1] \n",
    "The conversion rate of a product is given by the number of times a product has been bought over the number of times it has been visited. What's the conversion rate of your online store? Find the overall conversion rate of your store."
   ]
  },
  {
   "cell_type": "code",
   "execution_count": 37,
   "metadata": {},
   "outputs": [
    {
     "name": "stdout",
     "output_type": "stream",
     "text": [
      "The overall conversion rate of the store is equal to: 0.07%.\n"
     ]
    }
   ],
   "source": [
    "gc.collect()\n",
    "# The following table shows how many times a product has been purchased.\n",
    "purchasedProducts = pd.DataFrame(dataset[dataset.event_type == 'purchase'].groupby('product_id').product_id.count()).rename(columns={'product_id':'count purchases'}).reset_index()\n",
    "\n",
    "# The following table shows how many times a product has been viewed.\n",
    "viewedProducts = pd.DataFrame(dataset[dataset.event_type == 'view'].groupby('product_id').product_id.count()).rename(columns={'product_id':'count views'}).reset_index()\n",
    "\n",
    "# Join on the two tables\n",
    "mergedTable = purchasedProducts.join(viewedProducts.set_index('product_id'), on = 'product_id')\n",
    "\n",
    "# Add a new column to the table and calculate the conversion rate for each product\n",
    "mergedTable['conversion rate'] = mergedTable['count purchases']/mergedTable['count views']\n",
    "\n",
    "# Calculate the overall conversion rate of the store\n",
    "print('The overall conversion rate of the store is equal to: ' + str(round(mergedTable['conversion rate'].mean(),2)) + '%.')\n",
    "\n",
    "del purchasedProducts, viewedProducts, mergedTable"
   ]
  },
  {
   "cell_type": "markdown",
   "metadata": {},
   "source": [
    "### [RQ6.2] \n",
    "Plot the number of purchases of each category and show the conversion rate of each category in decreasing order."
   ]
  },
  {
   "cell_type": "code",
   "execution_count": 35,
   "metadata": {
    "scrolled": false
   },
   "outputs": [
    {
     "name": "stdout",
     "output_type": "stream",
     "text": [
      "The number of purchases for each product category and the conversion rate for each product category in decreasing order can be viewed in the table below:\n"
     ]
    },
    {
     "data": {
      "text/html": [
       "<div>\n",
       "<style scoped>\n",
       "    .dataframe tbody tr th:only-of-type {\n",
       "        vertical-align: middle;\n",
       "    }\n",
       "\n",
       "    .dataframe tbody tr th {\n",
       "        vertical-align: top;\n",
       "    }\n",
       "\n",
       "    .dataframe thead th {\n",
       "        text-align: right;\n",
       "    }\n",
       "</style>\n",
       "<table border=\"1\" class=\"dataframe\">\n",
       "  <thead>\n",
       "    <tr style=\"text-align: right;\">\n",
       "      <th></th>\n",
       "      <th>category_id</th>\n",
       "      <th>count_purchases</th>\n",
       "      <th>count_views</th>\n",
       "      <th>conversion_rate</th>\n",
       "    </tr>\n",
       "  </thead>\n",
       "  <tbody>\n",
       "    <tr>\n",
       "      <th>419</th>\n",
       "      <td>2149484852091552186</td>\n",
       "      <td>4</td>\n",
       "      <td>53</td>\n",
       "      <td>0.08</td>\n",
       "    </tr>\n",
       "    <tr>\n",
       "      <th>319</th>\n",
       "      <td>2077453854185620383</td>\n",
       "      <td>8</td>\n",
       "      <td>127</td>\n",
       "      <td>0.06</td>\n",
       "    </tr>\n",
       "    <tr>\n",
       "      <th>369</th>\n",
       "      <td>2110937219005940617</td>\n",
       "      <td>1</td>\n",
       "      <td>19</td>\n",
       "      <td>0.05</td>\n",
       "    </tr>\n",
       "    <tr>\n",
       "      <th>138</th>\n",
       "      <td>2053013558643393109</td>\n",
       "      <td>4</td>\n",
       "      <td>91</td>\n",
       "      <td>0.04</td>\n",
       "    </tr>\n",
       "    <tr>\n",
       "      <th>431</th>\n",
       "      <td>2172371118332051820</td>\n",
       "      <td>2</td>\n",
       "      <td>49</td>\n",
       "      <td>0.04</td>\n",
       "    </tr>\n",
       "    <tr>\n",
       "      <th>...</th>\n",
       "      <td>...</td>\n",
       "      <td>...</td>\n",
       "      <td>...</td>\n",
       "      <td>...</td>\n",
       "    </tr>\n",
       "    <tr>\n",
       "      <th>398</th>\n",
       "      <td>2135658542386905834</td>\n",
       "      <td>4</td>\n",
       "      <td>3015</td>\n",
       "      <td>0.00</td>\n",
       "    </tr>\n",
       "    <tr>\n",
       "      <th>308</th>\n",
       "      <td>2070005009256284935</td>\n",
       "      <td>1</td>\n",
       "      <td>894</td>\n",
       "      <td>0.00</td>\n",
       "    </tr>\n",
       "    <tr>\n",
       "      <th>403</th>\n",
       "      <td>2137704926053138958</td>\n",
       "      <td>1</td>\n",
       "      <td>1062</td>\n",
       "      <td>0.00</td>\n",
       "    </tr>\n",
       "    <tr>\n",
       "      <th>366</th>\n",
       "      <td>2110187395394568257</td>\n",
       "      <td>1</td>\n",
       "      <td>1156</td>\n",
       "      <td>0.00</td>\n",
       "    </tr>\n",
       "    <tr>\n",
       "      <th>193</th>\n",
       "      <td>2053013561327747819</td>\n",
       "      <td>1</td>\n",
       "      <td>1718</td>\n",
       "      <td>0.00</td>\n",
       "    </tr>\n",
       "  </tbody>\n",
       "</table>\n",
       "<p>433 rows × 4 columns</p>\n",
       "</div>"
      ],
      "text/plain": [
       "             category_id  count_purchases  count_views  conversion_rate\n",
       "419  2149484852091552186                4           53             0.08\n",
       "319  2077453854185620383                8          127             0.06\n",
       "369  2110937219005940617                1           19             0.05\n",
       "138  2053013558643393109                4           91             0.04\n",
       "431  2172371118332051820                2           49             0.04\n",
       "..                   ...              ...          ...              ...\n",
       "398  2135658542386905834                4         3015             0.00\n",
       "308  2070005009256284935                1          894             0.00\n",
       "403  2137704926053138958                1         1062             0.00\n",
       "366  2110187395394568257                1         1156             0.00\n",
       "193  2053013561327747819                1         1718             0.00\n",
       "\n",
       "[433 rows x 4 columns]"
      ]
     },
     "execution_count": 35,
     "metadata": {},
     "output_type": "execute_result"
    }
   ],
   "source": [
    "# The following table shows how many times a product has been purchased for each category\n",
    "gc.collect()\n",
    "purchasedProducts = pd.DataFrame(dataset[dataset.event_type == 'purchase'].groupby('category_id').product_id.count()).rename(columns={'product_id':'count_purchases'}).reset_index()\n",
    "\n",
    "# The following table shows how many times a product has been viewed for each category\n",
    "viewedProducts = pd.DataFrame(dataset[dataset.event_type == 'view'].groupby('category_id').product_id.count()).rename(columns={'product_id':'count_views'}).reset_index()\n",
    "\n",
    "# Join on the two tables\n",
    "mergedTable = purchasedProducts.join(viewedProducts.set_index('category_id'), on = 'category_id')\n",
    "del purchasedProducts, viewedProducts\n",
    "\n",
    "# Add a new column to the table and calculate the conversion rate for each product category\n",
    "mergedTable['conversion_rate'] = mergedTable['count_purchases']/mergedTable['count_views']\n",
    "pd.options.display.float_format = '{:,.2f}'.format\n",
    "mergedTable = mergedTable.sort_values(by = 'conversion_rate', ascending = False)\n",
    "print('The number of purchases for each product category and the conversion rate for each product category in decreasing order can be viewed in the table below:')\n",
    "mergedTable"
   ]
  },
  {
   "cell_type": "markdown",
   "metadata": {},
   "source": [
    "### [RQ4.1] \n",
    "How much does each brand earn per month? Write a function that given the name of a brand in input returns, for each month, its profit. "
   ]
  },
  {
   "cell_type": "code",
   "execution_count": 58,
   "metadata": {
    "scrolled": false
   },
   "outputs": [],
   "source": [
    "gc.collect()\n",
    "\n",
    "# The function returns, for each month, the profit of the given brand\n",
    "def getProfitsPerMonth(brandName):\n",
    "    \n",
    "    # Select only the rows with the given brand name\n",
    "    brandedTable = pd.DataFrame(dataset[dataset.brand == brandName])\n",
    "\n",
    "    # Select only the rows with the selled item and calculate the total profit for each month\n",
    "    brandedTable = pd.DataFrame(brandedTable[dataset.event_type == 'purchase'].groupby(dataset.event_time.dt.month).price.sum()).rename(columns={'price':'profit'}).reset_index()\n",
    "\n",
    "    # Renaming the column for a better understanding of the output\n",
    "    brandedTable.columns = ['month','profit']\n",
    "\n",
    "    return brandedTable"
   ]
  },
  {
   "cell_type": "code",
   "execution_count": 62,
   "metadata": {},
   "outputs": [
    {
     "name": "stdout",
     "output_type": "stream",
     "text": [
      "Please enter the name of the brand to return it's profit for each month.\n",
      "apple\n"
     ]
    },
    {
     "name": "stderr",
     "output_type": "stream",
     "text": [
      "<ipython-input-58-0f2ed8e1b33c>:10: UserWarning: Boolean Series key will be reindexed to match DataFrame index.\n",
      "  brandedTable = pd.DataFrame(brandedTable[dataset.event_type == 'purchase'].groupby(dataset.event_time.dt.month).price.sum()).rename(columns={'price':'profit'}).reset_index()\n"
     ]
    },
    {
     "name": "stdout",
     "output_type": "stream",
     "text": [
      "The profit for the brand apple for each month is the following:\n"
     ]
    },
    {
     "data": {
      "text/html": [
       "<div>\n",
       "<style scoped>\n",
       "    .dataframe tbody tr th:only-of-type {\n",
       "        vertical-align: middle;\n",
       "    }\n",
       "\n",
       "    .dataframe tbody tr th {\n",
       "        vertical-align: top;\n",
       "    }\n",
       "\n",
       "    .dataframe thead th {\n",
       "        text-align: right;\n",
       "    }\n",
       "</style>\n",
       "<table border=\"1\" class=\"dataframe\">\n",
       "  <thead>\n",
       "    <tr style=\"text-align: right;\">\n",
       "      <th></th>\n",
       "      <th>month</th>\n",
       "      <th>profit</th>\n",
       "    </tr>\n",
       "  </thead>\n",
       "  <tbody>\n",
       "    <tr>\n",
       "      <th>0</th>\n",
       "      <td>10</td>\n",
       "      <td>3,066,379.88</td>\n",
       "    </tr>\n",
       "    <tr>\n",
       "      <th>1</th>\n",
       "      <td>11</td>\n",
       "      <td>3,000,326.42</td>\n",
       "    </tr>\n",
       "  </tbody>\n",
       "</table>\n",
       "</div>"
      ],
      "text/plain": [
       "   month       profit\n",
       "0     10 3,066,379.88\n",
       "1     11 3,000,326.42"
      ]
     },
     "execution_count": 62,
     "metadata": {},
     "output_type": "execute_result"
    }
   ],
   "source": [
    "# Input the name of the brand\n",
    "print(\"Please enter the name of the brand to return it's profit for each month.\")\n",
    "brandName = input()\n",
    "brandedTable = getProfitsPerMonth(brandName)\n",
    "\n",
    "# Outputting the profits of the given brand for each month\n",
    "print(\"The profit for the brand \" + brandName + \" for each month is the following:\")\n",
    "brandedTable"
   ]
  },
  {
   "cell_type": "markdown",
   "metadata": {},
   "source": [
    "### [RQ4.2] \n",
    "Is the average price of products of different brands significantly different?"
   ]
  },
  {
   "cell_type": "code",
   "execution_count": 14,
   "metadata": {},
   "outputs": [
    {
     "name": "stdout",
     "output_type": "stream",
     "text": [
      "The average price of products of different brands vary very much as we can observe from the table below:\n"
     ]
    },
    {
     "data": {
      "text/html": [
       "<div>\n",
       "<style scoped>\n",
       "    .dataframe tbody tr th:only-of-type {\n",
       "        vertical-align: middle;\n",
       "    }\n",
       "\n",
       "    .dataframe tbody tr th {\n",
       "        vertical-align: top;\n",
       "    }\n",
       "\n",
       "    .dataframe thead th {\n",
       "        text-align: right;\n",
       "    }\n",
       "</style>\n",
       "<table border=\"1\" class=\"dataframe\">\n",
       "  <thead>\n",
       "    <tr style=\"text-align: right;\">\n",
       "      <th></th>\n",
       "      <th>brand</th>\n",
       "      <th>mean_price</th>\n",
       "    </tr>\n",
       "  </thead>\n",
       "  <tbody>\n",
       "    <tr>\n",
       "      <th>2088</th>\n",
       "      <td>pinarello</td>\n",
       "      <td>2,555.09</td>\n",
       "    </tr>\n",
       "    <tr>\n",
       "      <th>972</th>\n",
       "      <td>fondital</td>\n",
       "      <td>2,310.07</td>\n",
       "    </tr>\n",
       "    <tr>\n",
       "      <th>2178</th>\n",
       "      <td>rado</td>\n",
       "      <td>2,157.86</td>\n",
       "    </tr>\n",
       "    <tr>\n",
       "      <th>568</th>\n",
       "      <td>climadiff</td>\n",
       "      <td>1,999.03</td>\n",
       "    </tr>\n",
       "    <tr>\n",
       "      <th>2408</th>\n",
       "      <td>shua</td>\n",
       "      <td>1,911.64</td>\n",
       "    </tr>\n",
       "    <tr>\n",
       "      <th>...</th>\n",
       "      <td>...</td>\n",
       "      <td>...</td>\n",
       "    </tr>\n",
       "    <tr>\n",
       "      <th>1442</th>\n",
       "      <td>kleancolor</td>\n",
       "      <td>1.67</td>\n",
       "    </tr>\n",
       "    <tr>\n",
       "      <th>951</th>\n",
       "      <td>fitokosmetik</td>\n",
       "      <td>1.46</td>\n",
       "    </tr>\n",
       "    <tr>\n",
       "      <th>1882</th>\n",
       "      <td>naturalist</td>\n",
       "      <td>1.42</td>\n",
       "    </tr>\n",
       "    <tr>\n",
       "      <th>593</th>\n",
       "      <td>compliment</td>\n",
       "      <td>1.42</td>\n",
       "    </tr>\n",
       "    <tr>\n",
       "      <th>1171</th>\n",
       "      <td>heinz</td>\n",
       "      <td>1.08</td>\n",
       "    </tr>\n",
       "  </tbody>\n",
       "</table>\n",
       "<p>2983 rows × 2 columns</p>\n",
       "</div>"
      ],
      "text/plain": [
       "             brand  mean_price\n",
       "2088     pinarello    2,555.09\n",
       "972       fondital    2,310.07\n",
       "2178          rado    2,157.86\n",
       "568      climadiff    1,999.03\n",
       "2408          shua    1,911.64\n",
       "...            ...         ...\n",
       "1442    kleancolor        1.67\n",
       "951   fitokosmetik        1.46\n",
       "1882    naturalist        1.42\n",
       "593     compliment        1.42\n",
       "1171         heinz        1.08\n",
       "\n",
       "[2983 rows x 2 columns]"
      ]
     },
     "execution_count": 14,
     "metadata": {},
     "output_type": "execute_result"
    }
   ],
   "source": [
    "gc.collect()\n",
    " \n",
    "pd.options.display.float_format = '{:,.2f}'.format # Formatting the float values\n",
    "\n",
    "# Function that returns the mean price for each product category\n",
    "def getMeanPriceOfOtherBrands(brandName):\n",
    "    return pd.DataFrame(dataset[dataset.brand != brandName].groupby([dataset.brand]).price.mean()).rename(columns={'price':'mean_price'}).reset_index().sort_values(by = 'mean_price', ascending = False)\n",
    "\n",
    "meanPriceOfBrands = getMeanPriceOfOtherBrands(brandName)\n",
    "print('The average price of products of different brands vary very much as we can observe from the table below:')\n",
    "meanPriceOfBrands"
   ]
  },
  {
   "cell_type": "markdown",
   "metadata": {},
   "source": [
    "### [RQ4.3]\n",
    "Using the function you just created, find the top 3 brands that have suffered the biggest losses in earnings between one month and the next, specifing bothe the loss percentage and the 2 months (e.g., brand_1 lost 20% between march and april)."
   ]
  },
  {
   "cell_type": "code",
   "execution_count": 71,
   "metadata": {
    "scrolled": true
   },
   "outputs": [
    {
     "data": {
      "text/html": [
       "<div>\n",
       "<style scoped>\n",
       "    .dataframe tbody tr th:only-of-type {\n",
       "        vertical-align: middle;\n",
       "    }\n",
       "\n",
       "    .dataframe tbody tr th {\n",
       "        vertical-align: top;\n",
       "    }\n",
       "\n",
       "    .dataframe thead th {\n",
       "        text-align: right;\n",
       "    }\n",
       "</style>\n",
       "<table border=\"1\" class=\"dataframe\">\n",
       "  <thead>\n",
       "    <tr style=\"text-align: right;\">\n",
       "      <th></th>\n",
       "      <th>brand</th>\n",
       "      <th>event_time</th>\n",
       "      <th>profits</th>\n",
       "    </tr>\n",
       "  </thead>\n",
       "  <tbody>\n",
       "    <tr>\n",
       "      <th>64</th>\n",
       "      <td>apple</td>\n",
       "      <td>10</td>\n",
       "      <td>3,066,379.88</td>\n",
       "    </tr>\n",
       "    <tr>\n",
       "      <th>65</th>\n",
       "      <td>apple</td>\n",
       "      <td>11</td>\n",
       "      <td>3,000,326.42</td>\n",
       "    </tr>\n",
       "    <tr>\n",
       "      <th>1116</th>\n",
       "      <td>samsung</td>\n",
       "      <td>11</td>\n",
       "      <td>1,216,831.03</td>\n",
       "    </tr>\n",
       "    <tr>\n",
       "      <th>1115</th>\n",
       "      <td>samsung</td>\n",
       "      <td>10</td>\n",
       "      <td>1,202,063.67</td>\n",
       "    </tr>\n",
       "    <tr>\n",
       "      <th>1364</th>\n",
       "      <td>xiaomi</td>\n",
       "      <td>11</td>\n",
       "      <td>232,491.31</td>\n",
       "    </tr>\n",
       "    <tr>\n",
       "      <th>...</th>\n",
       "      <td>...</td>\n",
       "      <td>...</td>\n",
       "      <td>...</td>\n",
       "    </tr>\n",
       "    <tr>\n",
       "      <th>1250</th>\n",
       "      <td>topface</td>\n",
       "      <td>10</td>\n",
       "      <td>3.60</td>\n",
       "    </tr>\n",
       "    <tr>\n",
       "      <th>1081</th>\n",
       "      <td>rimmellondon</td>\n",
       "      <td>11</td>\n",
       "      <td>3.54</td>\n",
       "    </tr>\n",
       "    <tr>\n",
       "      <th>782</th>\n",
       "      <td>luxvisage</td>\n",
       "      <td>11</td>\n",
       "      <td>3.35</td>\n",
       "    </tr>\n",
       "    <tr>\n",
       "      <th>428</th>\n",
       "      <td>evamosaic</td>\n",
       "      <td>11</td>\n",
       "      <td>2.72</td>\n",
       "    </tr>\n",
       "    <tr>\n",
       "      <th>1251</th>\n",
       "      <td>topface</td>\n",
       "      <td>11</td>\n",
       "      <td>2.32</td>\n",
       "    </tr>\n",
       "  </tbody>\n",
       "</table>\n",
       "<p>1388 rows × 3 columns</p>\n",
       "</div>"
      ],
      "text/plain": [
       "             brand  event_time      profits\n",
       "64           apple          10 3,066,379.88\n",
       "65           apple          11 3,000,326.42\n",
       "1116       samsung          11 1,216,831.03\n",
       "1115       samsung          10 1,202,063.67\n",
       "1364        xiaomi          11   232,491.31\n",
       "...            ...         ...          ...\n",
       "1250       topface          10         3.60\n",
       "1081  rimmellondon          11         3.54\n",
       "782      luxvisage          11         3.35\n",
       "428      evamosaic          11         2.72\n",
       "1251       topface          11         2.32\n",
       "\n",
       "[1388 rows x 3 columns]"
      ]
     },
     "execution_count": 71,
     "metadata": {},
     "output_type": "execute_result"
    }
   ],
   "source": [
    "gc.collect()\n",
    "\n",
    "# Select only the rows with the selled item and calculate the total profit for each month\n",
    "totalProfitsPerMonth = dataset[dataset.event_type == 'purchase'].groupby([dataset.brand, dataset.event_time.dt.month]).price.sum()\n",
    "\n",
    "# Renaming column of profits and sorting it's values\n",
    "totalProfitsPerMonth = pd.DataFrame(totalProfitsPerMonth).rename(columns = {'price':'profits'}).reset_index().sort_values(by = 'profits', ascending = False)\n",
    "\n",
    "# Renaming column of month \n",
    "totalProfitsPerMonth.rename(columns = {'event_time':'month'})\n",
    "\n",
    "totalProfitsPerMonth\n"
   ]
  },
  {
   "cell_type": "code",
   "execution_count": null,
   "metadata": {},
   "outputs": [],
   "source": [
    "# List of unique brands\n",
    "arrOfBrands = dataset['brand'].dropna().unique().tolist()\n",
    "\n",
    "for index, row in arrOfBrandsOfBrands"
   ]
  },
  {
   "cell_type": "code",
   "execution_count": 145,
   "metadata": {
    "scrolled": true
   },
   "outputs": [
    {
     "name": "stderr",
     "output_type": "stream",
     "text": [
      "<ipython-input-58-0f2ed8e1b33c>:10: UserWarning: Boolean Series key will be reindexed to match DataFrame index.\n",
      "  brandedTable = pd.DataFrame(brandedTable[dataset.event_type == 'purchase'].groupby(dataset.event_time.dt.month).price.sum()).rename(columns={'price':'profit'}).reset_index()\n"
     ]
    },
    {
     "name": "stdout",
     "output_type": "stream",
     "text": [
      "{'brand': 'shiseido', 'losses': 100.0}\n",
      "{'brand': 'aqua', 'losses': 100.0}\n",
      "{'brand': 'lenovo', 'losses': 100.0}\n",
      "{'brand': 'apple', 'losses': 100.0}\n",
      "{'brand': 'pulser', 'losses': 100.0}\n",
      "{'brand': 'creed', 'losses': 100.0}\n",
      "{'brand': 'luminarc', 'losses': 100.0}\n",
      "{'brand': 'baden', 'losses': 100.0}\n",
      "{'brand': 'huawei', 'losses': 100.0}\n",
      "{'brand': 'elenberg', 'losses': 100.0}\n",
      "{'brand': 'samsung', 'losses': 3.72}\n",
      "{'brand': 'haier', 'losses': 100.0}\n",
      "{'brand': 'brw', 'losses': 100.0}\n",
      "{'brand': 'bosch', 'losses': 100.0}\n",
      "{'brand': 'hp', 'losses': 100.0}\n",
      "{'brand': 'jbl', 'losses': 100.0}\n",
      "{'brand': 'xiaomi', 'losses': 6.18}\n",
      "{'brand': 'midea', 'losses': 100.0}\n",
      "{'brand': 'ariston', 'losses': 100.0}\n",
      "{'brand': 'redmond', 'losses': 100.0}\n",
      "{'brand': 'gran-stone', 'losses': 100.0}\n",
      "{'brand': 'maxwell', 'losses': 100.0}\n",
      "{'brand': 'respect', 'losses': 100.0}\n",
      "{'brand': 'dauscher', 'losses': 100.0}\n",
      "{'brand': 'atlant', 'losses': 100.0}\n",
      "{'brand': 'burgerschuhe', 'losses': 100.0}\n",
      "{'brand': 'timberk', 'losses': 100.0}\n",
      "{'brand': 'triangle', 'losses': 100.0}\n",
      "{'brand': 'hotpoint-ariston', 'losses': 100.0}\n",
      "{'brand': 'gorenje', 'losses': 100.0}\n",
      "{'brand': 'acer', 'losses': 100.0}\n",
      "{'brand': 'lucente', 'losses': 100.0}\n",
      "{'brand': 'sony', 'losses': 100.0}\n",
      "{'brand': 'teploross', 'losses': 100.0}\n",
      "{'brand': 'vitek', 'losses': 100.0}\n",
      "{'brand': 'kelli', 'losses': 100.0}\n",
      "{'brand': 'panasonic', 'losses': 100.0}\n",
      "{'brand': 'leo', 'losses': 100.0}\n",
      "{'brand': 'okuma', 'losses': 100.0}\n",
      "{'brand': 'lg', 'losses': 100.0}\n",
      "{'brand': 'nokia', 'losses': 100.0}\n",
      "{'brand': 'krause', 'losses': 100.0}\n",
      "{'brand': 'strobbs', 'losses': 100.0}\n",
      "{'brand': 'bts', 'losses': 100.0}\n",
      "{'brand': 'artel', 'losses': 100.0}\n",
      "{'brand': 'oasis', 'losses': 100.0}\n",
      "{'brand': 'skad', 'losses': 100.0}\n",
      "{'brand': 'pride', 'losses': 100.0}\n",
      "{'brand': 'caprice', 'losses': 100.0}\n",
      "{'brand': 'nexpero', 'losses': 100.0}\n",
      "{'brand': 'microsoft', 'losses': 100.0}\n",
      "{'brand': 'kicx', 'losses': 100.0}\n",
      "{'brand': 'oneplus', 'losses': 100.0}\n",
      "{'brand': 'rush', 'losses': 100.0}\n",
      "{'brand': 'casio', 'losses': 100.0}\n",
      "{'brand': 'kenwood', 'losses': 100.0}\n",
      "{'brand': 'indesit', 'losses': 100.0}\n",
      "{'brand': 'polaris', 'losses': 100.0}\n",
      "{'brand': 'oppo', 'losses': 100.0}\n",
      "{'brand': 'kipardo', 'losses': 100.0}\n",
      "{'brand': 'fila', 'losses': 100.0}\n",
      "{'brand': 'fassen', 'losses': 100.0}\n",
      "{'brand': 'ballu', 'losses': 100.0}\n",
      "{'brand': 'stanley', 'losses': 100.0}\n",
      "{'brand': 'vega', 'losses': 100.0}\n",
      "{'brand': 'electrolux', 'losses': 100.0}\n",
      "{'brand': 'yokohama', 'losses': 100.0}\n",
      "{'brand': 'garmin', 'losses': 100.0}\n",
      "{'brand': 'sv', 'losses': 100.0}\n",
      "{'brand': 'gigabyte', 'losses': 100.0}\n",
      "{'brand': 'stels', 'losses': 100.0}\n",
      "{'brand': 'ava', 'losses': 100.0}\n",
      "{'brand': 'total', 'losses': 100.0}\n",
      "{'brand': 'sailun', 'losses': 100.0}\n",
      "{'brand': 'clatronic', 'losses': 100.0}\n",
      "{'brand': 'trust', 'losses': 100.0}\n",
      "{'brand': 'dewalt', 'losses': 100.0}\n",
      "{'brand': 'bq', 'losses': 100.0}\n",
      "{'brand': 'oral-b', 'losses': 100.0}\n",
      "{'brand': 'asics', 'losses': 100.0}\n",
      "{'brand': 'arnica', 'losses': 100.0}\n",
      "{'brand': 'cordiant', 'losses': 100.0}\n",
      "{'brand': 'chicco', 'losses': 100.0}\n",
      "{'brand': 'dior', 'losses': 100.0}\n",
      "{'brand': 'hansa', 'losses': 100.0}\n",
      "{'brand': 'trebl', 'losses': 100.0}\n",
      "{'brand': 'intex', 'losses': 100.0}\n",
      "{'brand': 'celestron', 'losses': 100.0}\n",
      "{'brand': 'arena', 'losses': 100.0}\n",
      "{'brand': 'granhel', 'losses': 100.0}\n",
      "{'brand': 'santeri', 'losses': 100.0}\n",
      "{'brand': 'moulinex', 'losses': 100.0}\n",
      "{'brand': 'starline', 'losses': 100.0}\n",
      "{'brand': 'kingston', 'losses': 100.0}\n",
      "{'brand': 'elari', 'losses': 100.0}\n",
      "{'brand': 'jvc', 'losses': 100.0}\n",
      "{'brand': 'fly', 'losses': 100.0}\n",
      "{'brand': 'candy', 'losses': 100.0}\n",
      "{'brand': 'prestigio', 'losses': 100.0}\n",
      "{'brand': 'transcend', 'losses': 100.0}\n",
      "{'brand': 'beko', 'losses': 100.0}\n",
      "{'brand': 'meizu', 'losses': 100.0}\n",
      "{'brand': 'moser', 'losses': 100.0}\n",
      "{'brand': 'kugoo', 'losses': 100.0}\n",
      "{'brand': 'montale', 'losses': 100.0}\n",
      "{'brand': 'viatti', 'losses': 100.0}\n",
      "{'brand': 'asus', 'losses': 100.0}\n",
      "{'brand': 'vegas', 'losses': 100.0}\n",
      "{'brand': 'sly', 'losses': 100.0}\n",
      "{'brand': 'delonghi', 'losses': 100.0}\n",
      "{'brand': 'viking', 'losses': 100.0}\n",
      "{'brand': 'nadoba', 'losses': 100.0}\n",
      "{'brand': 'x-game', 'losses': 100.0}\n",
      "{'brand': 'racer', 'losses': 100.0}\n",
      "{'brand': 'housefit', 'losses': 100.0}\n",
      "{'brand': 'mystar', 'losses': 100.0}\n",
      "{'brand': 'netechnics', 'losses': 100.0}\n",
      "{'brand': 'laston', 'losses': 100.0}\n",
      "{'brand': 'janome', 'losses': 100.0}\n",
      "{'brand': 'gopro', 'losses': 100.0}\n",
      "{'brand': 'erdenet', 'losses': 100.0}\n",
      "{'brand': 'tefal', 'losses': 100.0}\n",
      "{'brand': 'dometic', 'losses': 100.0}\n",
      "{'brand': 'tcl', 'losses': 100.0}\n",
      "{'brand': 'academie', 'losses': 100.0}\n",
      "{'brand': 'carver', 'losses': 100.0}\n",
      "{'brand': 'sega', 'losses': 100.0}\n",
      "{'brand': 'vivo', 'losses': 100.0}\n",
      "{'brand': 'yasin', 'losses': 100.0}\n",
      "{'brand': 'rinnai', 'losses': 100.0}\n",
      "{'brand': 'almacom', 'losses': 100.0}\n",
      "{'brand': 'willmark', 'losses': 100.0}\n",
      "{'brand': 'karcher', 'losses': 100.0}\n",
      "{'brand': 'magnetta', 'losses': 100.0}\n",
      "{'brand': 'fujida', 'losses': 100.0}\n",
      "{'brand': 'lanvin', 'losses': 100.0}\n",
      "{'brand': 'toro', 'losses': 100.0}\n",
      "{'brand': 'aeroforce', 'losses': 100.0}\n",
      "{'brand': 'verloni', 'losses': 100.0}\n",
      "{'brand': 'internedoors', 'losses': 100.0}\n",
      "{'brand': 'force', 'losses': 100.0}\n",
      "{'brand': 'smart', 'losses': 100.0}\n",
      "{'brand': 'pioneer', 'losses': 100.0}\n",
      "{'brand': 'askona', 'losses': 100.0}\n",
      "{'brand': 'besty', 'losses': 100.0}\n",
      "{'brand': 'huter', 'losses': 100.0}\n",
      "{'brand': 'hubert', 'losses': 100.0}\n",
      "{'brand': 'kivi', 'losses': 100.0}\n",
      "{'brand': 'gerat', 'losses': 100.0}\n",
      "{'brand': 'alphard', 'losses': 100.0}\n",
      "{'brand': 'remix', 'losses': 100.0}\n",
      "{'brand': 'hifly', 'losses': 100.0}\n",
      "{'brand': 'karya', 'losses': 100.0}\n",
      "{'brand': 'nexen', 'losses': 100.0}\n",
      "{'brand': 'rondell', 'losses': 100.0}\n",
      "{'brand': 'michelin', 'losses': 100.0}\n",
      "{'brand': 'trussardi', 'losses': 100.0}\n",
      "{'brand': 'eveline', 'losses': 100.0}\n",
      "{'brand': 'nika', 'losses': 100.0}\n",
      "{'brand': 'matrix', 'losses': 100.0}\n",
      "{'brand': 'tomfarr', 'losses': 100.0}\n",
      "{'brand': 'hyper', 'losses': 100.0}\n",
      "{'brand': 'acme', 'losses': 100.0}\n",
      "{'brand': 'canon', 'losses': 100.0}\n",
      "{'brand': 'rezult', 'losses': 100.0}\n",
      "{'brand': 'tissot', 'losses': 100.0}\n",
      "{'brand': 'goodloot', 'losses': 100.0}\n",
      "{'brand': 'sulu', 'losses': 100.0}\n",
      "{'brand': 'kirkland', 'losses': 100.0}\n",
      "{'brand': 'humminbird', 'losses': 100.0}\n",
      "{'brand': 'merelani', 'losses': 100.0}\n",
      "{'brand': 'roadx', 'losses': 100.0}\n",
      "{'brand': 'welly', 'losses': 100.0}\n",
      "{'brand': 'denzel', 'losses': 100.0}\n",
      "{'brand': 'nokian', 'losses': 100.0}\n",
      "{'brand': 'mamadoma', 'losses': 100.0}\n",
      "{'brand': 'arrivo', 'losses': 100.0}\n",
      "{'brand': 't-rex', 'losses': 100.0}\n",
      "{'brand': 'chanel', 'losses': 100.0}\n",
      "{'brand': 'ams', 'losses': 100.0}\n",
      "{'brand': 'fisherman', 'losses': 100.0}\n",
      "{'brand': 'peda', 'losses': 100.0}\n",
      "{'brand': 'palit', 'losses': 100.0}\n",
      "{'brand': 'aoteli', 'losses': 100.0}\n",
      "{'brand': 'tarkett', 'losses': 100.0}\n",
      "{'brand': 'honor', 'losses': 100.0}\n",
      "{'brand': 'harley-davidson', 'losses': 100.0}\n",
      "{'brand': 'avatar', 'losses': 100.0}\n",
      "{'brand': 'lider', 'losses': 100.0}\n",
      "{'brand': 'kolner', 'losses': 100.0}\n",
      "{'brand': 'evelinecosmetics', 'losses': 100.0}\n",
      "{'brand': 'epson', 'losses': 100.0}\n",
      "{'brand': 'givenchy', 'losses': 100.0}\n",
      "{'brand': 'dwt', 'losses': 100.0}\n",
      "{'brand': 'arg', 'losses': 100.0}\n",
      "{'brand': 'pablosky', 'losses': 100.0}\n",
      "{'brand': 'carfashion', 'losses': 100.0}\n",
      "{'brand': 'sokolov', 'losses': 100.0}\n",
      "{'brand': 'jordan', 'losses': 100.0}\n",
      "{'brand': 'fubag', 'losses': 100.0}\n",
      "{'brand': 'armani', 'losses': 100.0}\n",
      "{'brand': 'element', 'losses': 100.0}\n",
      "{'brand': 'hycell', 'losses': 100.0}\n",
      "{'brand': 'akvaton', 'losses': 100.0}\n",
      "{'brand': 'imperial', 'losses': 100.0}\n",
      "{'brand': 'komfort-s', 'losses': 100.0}\n",
      "{'brand': 'domini', 'losses': 100.0}\n",
      "{'brand': 'silverlit', 'losses': 100.0}\n",
      "{'brand': 'swisshome', 'losses': 100.0}\n",
      "{'brand': 'bradex', 'losses': 100.0}\n",
      "{'brand': 'defender', 'losses': 100.0}\n",
      "{'brand': 'steelseries', 'losses': 100.0}\n",
      "{'brand': 'boyscout', 'losses': 100.0}\n",
      "{'brand': 'hygge', 'losses': 100.0}\n",
      "{'brand': 'disney', 'losses': 100.0}\n",
      "{'brand': 'bfgoodrich', 'losses': 100.0}\n",
      "{'brand': 'energizer', 'losses': 100.0}\n",
      "{'brand': 'irbis', 'losses': 100.0}\n",
      "{'brand': 'garvalin', 'losses': 100.0}\n",
      "{'brand': 'trollbeads', 'losses': 100.0}\n",
      "{'brand': 'infinity', 'losses': 100.0}\n",
      "{'brand': 'hertz', 'losses': 100.0}\n",
      "{'brand': 'asrock', 'losses': 100.0}\n",
      "{'brand': 'llorens', 'losses': 100.0}\n",
      "{'brand': 'biomecanics', 'losses': 100.0}\n",
      "{'brand': 'barneo', 'losses': 100.0}\n",
      "{'brand': 'cersanit', 'losses': 100.0}\n",
      "{'brand': 'powertrac', 'losses': 100.0}\n",
      "{'brand': 'crown', 'losses': 100.0}\n",
      "{'brand': 'masstone', 'losses': 100.0}\n",
      "{'brand': 'romana', 'losses': 100.0}\n",
      "{'brand': 'outwell', 'losses': 100.0}\n",
      "{'brand': 'zubr', 'losses': 100.0}\n",
      "{'brand': 'phantom', 'losses': 100.0}\n",
      "{'brand': 'belecoo', 'losses': 100.0}\n"
     ]
    },
    {
     "name": "stdout",
     "output_type": "stream",
     "text": [
      "{'brand': 'smile', 'losses': 100.0}\n",
      "{'brand': 'continental', 'losses': 100.0}\n",
      "{'brand': 'inhouse', 'losses': 100.0}\n",
      "{'brand': 'westa', 'losses': 100.0}\n",
      "{'brand': 'nikon', 'losses': 100.0}\n",
      "{'brand': 'iwalk', 'losses': 100.0}\n",
      "{'brand': 'novline', 'losses': 100.0}\n",
      "{'brand': 'leatherman', 'losses': 100.0}\n",
      "{'brand': 'toshiba', 'losses': 100.0}\n",
      "{'brand': 'lacoste', 'losses': 100.0}\n",
      "{'brand': 'maxxis', 'losses': 100.0}\n",
      "{'brand': 'phoenix', 'losses': 100.0}\n",
      "{'brand': 'graphite', 'losses': 100.0}\n",
      "{'brand': 'gezatone', 'losses': 100.0}\n",
      "{'brand': 'rooman', 'losses': 100.0}\n",
      "{'brand': 'inoi', 'losses': 100.0}\n",
      "{'brand': 'suunto', 'losses': 100.0}\n",
      "{'brand': 'whirlpool', 'losses': 100.0}\n",
      "{'brand': 'dion', 'losses': 100.0}\n",
      "{'brand': 'gerber', 'losses': 100.0}\n",
      "{'brand': 'kormoran', 'losses': 100.0}\n",
      "{'brand': 'artmusical', 'losses': 100.0}\n",
      "{'brand': 'orient', 'losses': 100.0}\n",
      "{'brand': 'joyroad', 'losses': 100.0}\n",
      "{'brand': 'stendmebel', 'losses': 100.0}\n",
      "{'brand': 'machaon', 'losses': 100.0}\n",
      "{'brand': 'tp-link', 'losses': 100.0}\n",
      "{'brand': 'tunga', 'losses': 100.0}\n",
      "{'brand': 'ryobi', 'losses': 100.0}\n",
      "{'brand': 'dell', 'losses': 100.0}\n",
      "{'brand': 'dam', 'losses': 100.0}\n",
      "{'brand': 'etor', 'losses': 100.0}\n",
      "{'brand': 'cube', 'losses': 100.0}\n",
      "{'brand': 'nakamichi', 'losses': 100.0}\n",
      "{'brand': 'goodride', 'losses': 100.0}\n",
      "{'brand': 'amd', 'losses': 100.0}\n",
      "{'brand': 'gt', 'losses': 100.0}\n",
      "{'brand': 'jinga', 'losses': 100.0}\n",
      "{'brand': 'anytek', 'losses': 100.0}\n",
      "{'brand': 'nike', 'losses': 100.0}\n",
      "{'brand': 'citizen', 'losses': 100.0}\n",
      "{'brand': 'confetti', 'losses': 100.0}\n",
      "{'brand': 'zeta', 'losses': 100.0}\n",
      "{'brand': 'compasal', 'losses': 100.0}\n",
      "{'brand': 'mirage', 'losses': 100.0}\n",
      "{'brand': 'yamaha', 'losses': 100.0}\n",
      "{'brand': 'changhong', 'losses': 100.0}\n",
      "{'brand': 'cantra', 'losses': 100.0}\n",
      "{'brand': 'karat', 'losses': 100.0}\n",
      "{'brand': 'powercolor', 'losses': 100.0}\n",
      "{'brand': 'toyo', 'losses': 100.0}\n",
      "{'brand': 'helvetia', 'losses': 100.0}\n",
      "{'brand': 'bridgestone', 'losses': 100.0}\n",
      "{'brand': 'alpika', 'losses': 100.0}\n",
      "{'brand': 'balta', 'losses': 100.0}\n",
      "{'brand': 'lego', 'losses': 100.0}\n",
      "{'brand': 'milavitsa', 'losses': 100.0}\n",
      "{'brand': 'brother', 'losses': 100.0}\n",
      "{'brand': 'texet', 'losses': 100.0}\n",
      "{'brand': 'comforser', 'losses': 100.0}\n",
      "{'brand': 'bars', 'losses': 100.0}\n",
      "{'brand': 'rieker', 'losses': 100.0}\n",
      "{'brand': 'shivaki', 'losses': 100.0}\n",
      "{'brand': 'naturehike', 'losses': 100.0}\n",
      "{'brand': 'cortland', 'losses': 100.0}\n"
     ]
    },
    {
     "data": {
      "text/html": [
       "<div>\n",
       "<style scoped>\n",
       "    .dataframe tbody tr th:only-of-type {\n",
       "        vertical-align: middle;\n",
       "    }\n",
       "\n",
       "    .dataframe tbody tr th {\n",
       "        vertical-align: top;\n",
       "    }\n",
       "\n",
       "    .dataframe thead th {\n",
       "        text-align: right;\n",
       "    }\n",
       "</style>\n",
       "<table border=\"1\" class=\"dataframe\">\n",
       "  <thead>\n",
       "    <tr style=\"text-align: right;\">\n",
       "      <th></th>\n",
       "      <th>brand</th>\n",
       "      <th>losses</th>\n",
       "    </tr>\n",
       "  </thead>\n",
       "  <tbody>\n",
       "  </tbody>\n",
       "</table>\n",
       "</div>"
      ],
      "text/plain": [
       "Empty DataFrame\n",
       "Columns: [brand, losses]\n",
       "Index: []"
      ]
     },
     "execution_count": 145,
     "metadata": {},
     "output_type": "execute_result"
    }
   ],
   "source": [
    "gc.collect()\n",
    "\n",
    "# List of unique brands\n",
    "arrOfBrands = dataset['brand'].dropna().unique().tolist()\n",
    "\n",
    "# Dataframe storing all the brands and their losses between October and November\n",
    "topBrands = pd.DataFrame(columns = ['brand', 'losses'])\n",
    "\n",
    "# Iterate per each brand of the dataset\n",
    "for br in arrOfBrands:\n",
    "    \n",
    "    # Call the function getProfitsPerMonth which will return a DataFrame containing the earnings of the brand for each month\n",
    "    profitsPerMonthOfABrand = getProfitsPerMonth(br)\n",
    "    \n",
    "    # Create dictionary for the brand\n",
    "    dicOfProfitsPerMonth = OrderedDict()\n",
    "    \n",
    "    # Iterate for each row of the returned dataframe which contains the earnings of the brand for each month\n",
    "    for index, row in profitsPerMonthOfABrand.iterrows():\n",
    "        month = int(row['month'])\n",
    "        profit = round(row['profit'], 2)\n",
    "        dicOfProfitsPerMonth[month] = profit\n",
    "        \n",
    "    lossBetweenTwoMonths = 0 \n",
    "    \n",
    "    # Controlling of the brand has profits in October and November\n",
    "    if len(dicOfProfitsPerMonth) == 2:\n",
    "        lossBetweenTwoMonths = round(abs(dicOfProfitsPerMonth[11] - dicOfProfitsPerMonth[10]) / dicOfProfitsPerMonth[10], 2)\n",
    "    # The brand has registered profits only in one of the two months\n",
    "    else:\n",
    "        lossBetweenTwoMonths = 100.00\n",
    "    \n",
    "    # Creating a temporary dataframe with one row contaning the name of the brand and the percentage loss\n",
    "    #tempDf = pd.DataFrame([[br, lossBetweenTwoMonths]], columns = ['brand', 'losses'])\n",
    "    new_row = {'brand':br, 'losses':lossBetweenTwoMonths}\n",
    "    \n",
    "    # Appending the temporary dataframe to the dataframe contaning all brands and their losses in percentage\n",
    "     # first row of data frame\n",
    "    topBrands.append(new_row, ignore_index=True)\n",
    "    #print(topBrands)\n",
    "    \n",
    "topBrands\n",
    "\n",
    "\n",
    "    "
   ]
  }
 ],
 "metadata": {
  "kernelspec": {
   "display_name": "Python 3",
   "language": "python",
   "name": "python3"
  },
  "language_info": {
   "codemirror_mode": {
    "name": "ipython",
    "version": 3
   },
   "file_extension": ".py",
   "mimetype": "text/x-python",
   "name": "python",
   "nbconvert_exporter": "python",
   "pygments_lexer": "ipython3",
   "version": "3.8.3"
  }
 },
 "nbformat": 4,
 "nbformat_minor": 4
}
