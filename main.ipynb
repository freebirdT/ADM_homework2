{
 "cells": [
  {
   "cell_type": "markdown",
   "metadata": {},
   "source": [
    "# Homework 2 - eCommerce analytics"
   ]
  },
  {
   "cell_type": "markdown",
   "metadata": {},
   "source": [
    "*Authors:*\n",
    "- _Tansel Simsek_\n",
    "- _Andrea Carella_\n",
    "- _Adrienn Timea Aszalos_\n",
    "\n",
    "Date: 08.11.2020\n"
   ]
  },
  {
   "cell_type": "markdown",
   "metadata": {},
   "source": [
    "## Introduction to the homework"
   ]
  },
  {
   "cell_type": "markdown",
   "metadata": {},
   "source": [
    "<font size=\"2\">E-commerce, also known as electronic commerce or internet commerce, refers to the buying and selling of goods or services using the internet, and the transfer of money and data to execute these transactions. The first e-commerce implementations date back to the 1990s and since then, millions of people every day visit some e-commerce sites to look for some product or service and, eventually, to purchase it.\n",
    "\n",
    "You have been hired as a data scientist from a big multi-category online store. You and your team have been required to perform an analysis of the customer behavior in the store. Each row in the dataset represents an event, which catches different interactions (views, a product added/removed to/from the cart, purchases) of customers with your e-commerce. All events are related to products and users.\n",
    "\n",
    "Your goal is to answer some research questions (RQs) that may help us discover and interpret meaningful patterns in data and eventually increase the number of sales.</font>"
   ]
  },
  {
   "cell_type": "markdown",
   "metadata": {},
   "source": [
    "## Libraries"
   ]
  },
  {
   "cell_type": "code",
   "execution_count": 9,
   "metadata": {},
   "outputs": [],
   "source": [
    "import pandas as pd\n",
    "import matplotlib.pyplot as plt\n",
    "import numpy as np\n",
    "import gc # Garbage Collector"
   ]
  },
  {
   "cell_type": "markdown",
   "metadata": {},
   "source": [
    "## Importing datasets"
   ]
  },
  {
   "cell_type": "markdown",
   "metadata": {},
   "source": [
    "<font size=\"3\">**NOTE!!!** \n",
    "    The _**category_code**_  and _**brand**_ columns of the dataset may have missing values.</font>"
   ]
  },
  {
   "cell_type": "code",
   "execution_count": 7,
   "metadata": {},
   "outputs": [
    {
     "data": {
      "text/plain": [
       "0"
      ]
     },
     "execution_count": 7,
     "metadata": {},
     "output_type": "execute_result"
    }
   ],
   "source": [
    "# Importing the file 2019-Oct.csv and converting the values of the column \"event_time\" from string to type datetime64\n",
    "\n",
    "dataset = pd.read_csv('./data/2019-Oct.csv', \n",
    "                      header='infer', \n",
    "                      parse_dates=['event_time'],\n",
    "                     date_parser=pd.to_datetime, nrows=1200000)\n",
    "\n",
    "# Using this method in order to force the system to try to reclaim the maximum amount of available memory\n",
    "gc.collect()"
   ]
  },
  {
   "cell_type": "code",
   "execution_count": 37,
   "metadata": {},
   "outputs": [
    {
     "data": {
      "text/plain": [
       "0"
      ]
     },
     "execution_count": 37,
     "metadata": {},
     "output_type": "execute_result"
    }
   ],
   "source": [
    "# Importing the file 2019-Nov.csv and converting the values of the column \"event_time\" from string to timestamp\n",
    "\n",
    "dataset_nov = pd.read_csv('./data/2019-Nov.csv', \n",
    "                      header='infer', \n",
    "                      parse_dates=['event_time'],\n",
    "                     date_parser=pd.to_datetime, nrows=1200000)\n",
    "\n",
    "# Using this method in order to force the system to try to reclaim the maximum amount of available memory\n",
    "gc.collect()"
   ]
  },
  {
   "cell_type": "code",
   "execution_count": 5,
   "metadata": {
    "scrolled": true
   },
   "outputs": [
    {
     "ename": "NameError",
     "evalue": "name 'dataset' is not defined",
     "output_type": "error",
     "traceback": [
      "\u001b[1;31m---------------------------------------------------------------------------\u001b[0m",
      "\u001b[1;31mNameError\u001b[0m                                 Traceback (most recent call last)",
      "\u001b[1;32m<ipython-input-5-55820db9dc3e>\u001b[0m in \u001b[0;36m<module>\u001b[1;34m\u001b[0m\n\u001b[0;32m      1\u001b[0m \u001b[1;31m# Merging the two datasets into one single dataset and storing the final data into an existing variable in order\u001b[0m\u001b[1;33m\u001b[0m\u001b[1;33m\u001b[0m\u001b[1;33m\u001b[0m\u001b[0m\n\u001b[0;32m      2\u001b[0m \u001b[1;31m# to use as little memory as possible\u001b[0m\u001b[1;33m\u001b[0m\u001b[1;33m\u001b[0m\u001b[1;33m\u001b[0m\u001b[0m\n\u001b[1;32m----> 3\u001b[1;33m \u001b[0mdataset\u001b[0m \u001b[1;33m=\u001b[0m \u001b[0mdataset\u001b[0m\u001b[1;33m.\u001b[0m\u001b[0mappend\u001b[0m\u001b[1;33m(\u001b[0m\u001b[0mdataset_nov\u001b[0m\u001b[1;33m)\u001b[0m\u001b[1;33m\u001b[0m\u001b[1;33m\u001b[0m\u001b[0m\n\u001b[0m\u001b[0;32m      4\u001b[0m \u001b[1;33m\u001b[0m\u001b[0m\n\u001b[0;32m      5\u001b[0m \u001b[1;31m# Deleting the unused variable in order to free memory space\u001b[0m\u001b[1;33m\u001b[0m\u001b[1;33m\u001b[0m\u001b[1;33m\u001b[0m\u001b[0m\n",
      "\u001b[1;31mNameError\u001b[0m: name 'dataset' is not defined"
     ]
    }
   ],
   "source": [
    "# Merging the two datasets into one single dataset and storing the final data into an existing variable in order \n",
    "# to use as little memory as possible\n",
    "dataset = dataset.append(dataset_nov)\n",
    "\n",
    "# Deleting the unused variable in order to free memory space\n",
    "del dataset_nov\n",
    "\n",
    "# Using this method in order to force the system to try to reclaim the maximum amount of available memory\n",
    "gc.collect()"
   ]
  },
  {
   "cell_type": "code",
   "execution_count": null,
   "metadata": {},
   "outputs": [],
   "source": [
    "# Storing the data into a pickle file in order to procees it more rapidly instead of processing the two csv files each time \n",
    "# we start the session in Jupiter\n",
    "dataset.to_pickle(\"data/mergedata\")"
   ]
  },
  {
   "cell_type": "code",
   "execution_count": 10,
   "metadata": {},
   "outputs": [],
   "source": [
    "dataset = pd.read_pickle(\"data/mergedata\")"
   ]
  },
  {
   "cell_type": "markdown",
   "metadata": {},
   "source": [
    "## Let's visualize and know our dataset"
   ]
  },
  {
   "cell_type": "markdown",
   "metadata": {},
   "source": [
    "Viewing the structure of the dataset"
   ]
  },
  {
   "cell_type": "code",
   "execution_count": 41,
   "metadata": {},
   "outputs": [
    {
     "data": {
      "text/html": [
       "<div>\n",
       "<style scoped>\n",
       "    .dataframe tbody tr th:only-of-type {\n",
       "        vertical-align: middle;\n",
       "    }\n",
       "\n",
       "    .dataframe tbody tr th {\n",
       "        vertical-align: top;\n",
       "    }\n",
       "\n",
       "    .dataframe thead th {\n",
       "        text-align: right;\n",
       "    }\n",
       "</style>\n",
       "<table border=\"1\" class=\"dataframe\">\n",
       "  <thead>\n",
       "    <tr style=\"text-align: right;\">\n",
       "      <th></th>\n",
       "      <th>event_time</th>\n",
       "      <th>event_type</th>\n",
       "      <th>product_id</th>\n",
       "      <th>category_id</th>\n",
       "      <th>category_code</th>\n",
       "      <th>brand</th>\n",
       "      <th>price</th>\n",
       "      <th>user_id</th>\n",
       "      <th>user_session</th>\n",
       "    </tr>\n",
       "  </thead>\n",
       "  <tbody>\n",
       "    <tr>\n",
       "      <th>0</th>\n",
       "      <td>2019-10-01 00:00:00+00:00</td>\n",
       "      <td>view</td>\n",
       "      <td>44600062</td>\n",
       "      <td>2103807459595387724</td>\n",
       "      <td>NaN</td>\n",
       "      <td>shiseido</td>\n",
       "      <td>35.79</td>\n",
       "      <td>541312140</td>\n",
       "      <td>72d76fde-8bb3-4e00-8c23-a032dfed738c</td>\n",
       "    </tr>\n",
       "    <tr>\n",
       "      <th>1</th>\n",
       "      <td>2019-10-01 00:00:00+00:00</td>\n",
       "      <td>view</td>\n",
       "      <td>3900821</td>\n",
       "      <td>2053013552326770905</td>\n",
       "      <td>appliances.environment.water_heater</td>\n",
       "      <td>aqua</td>\n",
       "      <td>33.20</td>\n",
       "      <td>554748717</td>\n",
       "      <td>9333dfbd-b87a-4708-9857-6336556b0fcc</td>\n",
       "    </tr>\n",
       "    <tr>\n",
       "      <th>2</th>\n",
       "      <td>2019-10-01 00:00:01+00:00</td>\n",
       "      <td>view</td>\n",
       "      <td>17200506</td>\n",
       "      <td>2053013559792632471</td>\n",
       "      <td>furniture.living_room.sofa</td>\n",
       "      <td>NaN</td>\n",
       "      <td>543.10</td>\n",
       "      <td>519107250</td>\n",
       "      <td>566511c2-e2e3-422b-b695-cf8e6e792ca8</td>\n",
       "    </tr>\n",
       "    <tr>\n",
       "      <th>3</th>\n",
       "      <td>2019-10-01 00:00:01+00:00</td>\n",
       "      <td>view</td>\n",
       "      <td>1307067</td>\n",
       "      <td>2053013558920217191</td>\n",
       "      <td>computers.notebook</td>\n",
       "      <td>lenovo</td>\n",
       "      <td>251.74</td>\n",
       "      <td>550050854</td>\n",
       "      <td>7c90fc70-0e80-4590-96f3-13c02c18c713</td>\n",
       "    </tr>\n",
       "    <tr>\n",
       "      <th>4</th>\n",
       "      <td>2019-10-01 00:00:04+00:00</td>\n",
       "      <td>view</td>\n",
       "      <td>1004237</td>\n",
       "      <td>2053013555631882655</td>\n",
       "      <td>electronics.smartphone</td>\n",
       "      <td>apple</td>\n",
       "      <td>1081.98</td>\n",
       "      <td>535871217</td>\n",
       "      <td>c6bd7419-2748-4c56-95b4-8cec9ff8b80d</td>\n",
       "    </tr>\n",
       "  </tbody>\n",
       "</table>\n",
       "</div>"
      ],
      "text/plain": [
       "                 event_time event_type  product_id          category_id  \\\n",
       "0 2019-10-01 00:00:00+00:00       view    44600062  2103807459595387724   \n",
       "1 2019-10-01 00:00:00+00:00       view     3900821  2053013552326770905   \n",
       "2 2019-10-01 00:00:01+00:00       view    17200506  2053013559792632471   \n",
       "3 2019-10-01 00:00:01+00:00       view     1307067  2053013558920217191   \n",
       "4 2019-10-01 00:00:04+00:00       view     1004237  2053013555631882655   \n",
       "\n",
       "                         category_code     brand    price    user_id  \\\n",
       "0                                  NaN  shiseido    35.79  541312140   \n",
       "1  appliances.environment.water_heater      aqua    33.20  554748717   \n",
       "2           furniture.living_room.sofa       NaN   543.10  519107250   \n",
       "3                   computers.notebook    lenovo   251.74  550050854   \n",
       "4               electronics.smartphone     apple  1081.98  535871217   \n",
       "\n",
       "                           user_session  \n",
       "0  72d76fde-8bb3-4e00-8c23-a032dfed738c  \n",
       "1  9333dfbd-b87a-4708-9857-6336556b0fcc  \n",
       "2  566511c2-e2e3-422b-b695-cf8e6e792ca8  \n",
       "3  7c90fc70-0e80-4590-96f3-13c02c18c713  \n",
       "4  c6bd7419-2748-4c56-95b4-8cec9ff8b80d  "
      ]
     },
     "execution_count": 41,
     "metadata": {},
     "output_type": "execute_result"
    }
   ],
   "source": [
    "dataset.head()"
   ]
  },
  {
   "cell_type": "markdown",
   "metadata": {},
   "source": [
    "The columns of our dataset are the following:\n",
    "- _event_time:_ Time when event happened at (in UTC).\n",
    "- _event_type:_\n",
    "    \n",
    "    Events can be:\n",
    "\n",
    "    - view - a user viewed a product\n",
    "    - cart - a user added a product to shopping cart\n",
    "    - removefromcart - a user removed a product from shopping cart\n",
    "    - purchase - a user purchased a product\n",
    "\n",
    "    Typical funnel: view => cart => purchase.\n",
    "    \n",
    "\n",
    "- _product_id:_ ID of a product\n",
    "- _category_id:_ Product's category ID\n",
    "- _category_code:_ Product's category taxonomy (code name) if it was possible to make it. Usually present for meaningful categories and skipped for different kinds of accessories.\n",
    "- _brand:_ Downcased string of brand name. Can be missed. \n",
    "- _price:_ Float price of a product. Present.\n",
    "- _user_id:_ Permanent user ID.\n",
    "- _user_session:_ Temporary user's session ID. Same for each user's session. Is changed every time user come back to online store from a long pause.\n",
    "\n",
    "**NOTE!!!** \n",
    "- The columns:\n",
    "    - **_brand_**,\n",
    "    - _**category_code**_ may **contain missing values**\n",
    "- The value **_removefromcart_** of the column *event_type* **is missing**."
   ]
  },
  {
   "cell_type": "code",
   "execution_count": 42,
   "metadata": {},
   "outputs": [
    {
     "data": {
      "text/plain": [
       "Index(['event_time', 'event_type', 'product_id', 'category_id',\n",
       "       'category_code', 'brand', 'price', 'user_id', 'user_session'],\n",
       "      dtype='object')"
      ]
     },
     "execution_count": 42,
     "metadata": {},
     "output_type": "execute_result"
    }
   ],
   "source": [
    "dataset.columns\n"
   ]
  },
  {
   "cell_type": "code",
   "execution_count": 206,
   "metadata": {},
   "outputs": [
    {
     "name": "stdout",
     "output_type": "stream",
     "text": [
      "The dataset is composed of 3600000 rows and 9 columns.\n"
     ]
    }
   ],
   "source": [
    "print('The dataset is composed of ' + str(dataset.shape[0]) + ' rows and ' + str(dataset.shape[1]) + ' columns.')\n"
   ]
  },
  {
   "cell_type": "markdown",
   "metadata": {},
   "source": [
    "## Generating a descriptive statistics about the dataframe:"
   ]
  },
  {
   "cell_type": "code",
   "execution_count": 205,
   "metadata": {},
   "outputs": [
    {
     "data": {
      "text/html": [
       "<div>\n",
       "<style scoped>\n",
       "    .dataframe tbody tr th:only-of-type {\n",
       "        vertical-align: middle;\n",
       "    }\n",
       "\n",
       "    .dataframe tbody tr th {\n",
       "        vertical-align: top;\n",
       "    }\n",
       "\n",
       "    .dataframe thead th {\n",
       "        text-align: right;\n",
       "    }\n",
       "</style>\n",
       "<table border=\"1\" class=\"dataframe\">\n",
       "  <thead>\n",
       "    <tr style=\"text-align: right;\">\n",
       "      <th></th>\n",
       "      <th>event_time</th>\n",
       "      <th>event_type</th>\n",
       "      <th>product_id</th>\n",
       "      <th>category_id</th>\n",
       "      <th>category_code</th>\n",
       "      <th>brand</th>\n",
       "      <th>price</th>\n",
       "      <th>user_id</th>\n",
       "      <th>user_session</th>\n",
       "    </tr>\n",
       "  </thead>\n",
       "  <tbody>\n",
       "    <tr>\n",
       "      <th>count</th>\n",
       "      <td>3600000</td>\n",
       "      <td>3600000</td>\n",
       "      <td>3.600000e+06</td>\n",
       "      <td>3.600000e+06</td>\n",
       "      <td>2451772</td>\n",
       "      <td>3064189</td>\n",
       "      <td>3.600000e+06</td>\n",
       "      <td>3.600000e+06</td>\n",
       "      <td>3600000</td>\n",
       "    </tr>\n",
       "    <tr>\n",
       "      <th>unique</th>\n",
       "      <td>NaN</td>\n",
       "      <td>3</td>\n",
       "      <td>NaN</td>\n",
       "      <td>NaN</td>\n",
       "      <td>126</td>\n",
       "      <td>2984</td>\n",
       "      <td>NaN</td>\n",
       "      <td>NaN</td>\n",
       "      <td>537771</td>\n",
       "    </tr>\n",
       "    <tr>\n",
       "      <th>top</th>\n",
       "      <td>NaN</td>\n",
       "      <td>view</td>\n",
       "      <td>NaN</td>\n",
       "      <td>NaN</td>\n",
       "      <td>electronics.smartphone</td>\n",
       "      <td>samsung</td>\n",
       "      <td>NaN</td>\n",
       "      <td>NaN</td>\n",
       "      <td>4488e77a-9901-4c4b-b162-47a224ceab51</td>\n",
       "    </tr>\n",
       "    <tr>\n",
       "      <th>freq</th>\n",
       "      <td>NaN</td>\n",
       "      <td>3491503</td>\n",
       "      <td>NaN</td>\n",
       "      <td>NaN</td>\n",
       "      <td>969919</td>\n",
       "      <td>439716</td>\n",
       "      <td>NaN</td>\n",
       "      <td>NaN</td>\n",
       "      <td>1008</td>\n",
       "    </tr>\n",
       "    <tr>\n",
       "      <th>mean</th>\n",
       "      <td>2019-10-22 02:51:05.932886528+00:00</td>\n",
       "      <td>NaN</td>\n",
       "      <td>1.065531e+07</td>\n",
       "      <td>2.057230e+18</td>\n",
       "      <td>NaN</td>\n",
       "      <td>NaN</td>\n",
       "      <td>2.939980e+02</td>\n",
       "      <td>5.338908e+08</td>\n",
       "      <td>NaN</td>\n",
       "    </tr>\n",
       "    <tr>\n",
       "      <th>min</th>\n",
       "      <td>2019-10-01 00:00:00+00:00</td>\n",
       "      <td>NaN</td>\n",
       "      <td>1.000978e+06</td>\n",
       "      <td>2.053014e+18</td>\n",
       "      <td>NaN</td>\n",
       "      <td>NaN</td>\n",
       "      <td>0.000000e+00</td>\n",
       "      <td>2.449511e+08</td>\n",
       "      <td>NaN</td>\n",
       "    </tr>\n",
       "    <tr>\n",
       "      <th>25%</th>\n",
       "      <td>2019-10-01 15:55:43+00:00</td>\n",
       "      <td>NaN</td>\n",
       "      <td>1.005161e+06</td>\n",
       "      <td>2.053014e+18</td>\n",
       "      <td>NaN</td>\n",
       "      <td>NaN</td>\n",
       "      <td>6.819000e+01</td>\n",
       "      <td>5.158499e+08</td>\n",
       "      <td>NaN</td>\n",
       "    </tr>\n",
       "    <tr>\n",
       "      <th>50%</th>\n",
       "      <td>2019-11-01 06:45:50+00:00</td>\n",
       "      <td>NaN</td>\n",
       "      <td>5.100338e+06</td>\n",
       "      <td>2.053014e+18</td>\n",
       "      <td>NaN</td>\n",
       "      <td>NaN</td>\n",
       "      <td>1.689100e+02</td>\n",
       "      <td>5.295364e+08</td>\n",
       "      <td>NaN</td>\n",
       "    </tr>\n",
       "    <tr>\n",
       "      <th>75%</th>\n",
       "      <td>2019-11-01 12:41:07+00:00</td>\n",
       "      <td>NaN</td>\n",
       "      <td>1.640002e+07</td>\n",
       "      <td>2.053014e+18</td>\n",
       "      <td>NaN</td>\n",
       "      <td>NaN</td>\n",
       "      <td>3.621000e+02</td>\n",
       "      <td>5.518252e+08</td>\n",
       "      <td>NaN</td>\n",
       "    </tr>\n",
       "    <tr>\n",
       "      <th>max</th>\n",
       "      <td>2019-11-01 17:29:23+00:00</td>\n",
       "      <td>NaN</td>\n",
       "      <td>6.170001e+07</td>\n",
       "      <td>2.180737e+18</td>\n",
       "      <td>NaN</td>\n",
       "      <td>NaN</td>\n",
       "      <td>2.574070e+03</td>\n",
       "      <td>5.665404e+08</td>\n",
       "      <td>NaN</td>\n",
       "    </tr>\n",
       "    <tr>\n",
       "      <th>std</th>\n",
       "      <td>NaN</td>\n",
       "      <td>NaN</td>\n",
       "      <td>1.184935e+07</td>\n",
       "      <td>1.810084e+16</td>\n",
       "      <td>NaN</td>\n",
       "      <td>NaN</td>\n",
       "      <td>3.553471e+02</td>\n",
       "      <td>1.919557e+07</td>\n",
       "      <td>NaN</td>\n",
       "    </tr>\n",
       "  </tbody>\n",
       "</table>\n",
       "</div>"
      ],
      "text/plain": [
       "                                 event_time event_type    product_id  \\\n",
       "count                               3600000    3600000  3.600000e+06   \n",
       "unique                                  NaN          3           NaN   \n",
       "top                                     NaN       view           NaN   \n",
       "freq                                    NaN    3491503           NaN   \n",
       "mean    2019-10-22 02:51:05.932886528+00:00        NaN  1.065531e+07   \n",
       "min               2019-10-01 00:00:00+00:00        NaN  1.000978e+06   \n",
       "25%               2019-10-01 15:55:43+00:00        NaN  1.005161e+06   \n",
       "50%               2019-11-01 06:45:50+00:00        NaN  5.100338e+06   \n",
       "75%               2019-11-01 12:41:07+00:00        NaN  1.640002e+07   \n",
       "max               2019-11-01 17:29:23+00:00        NaN  6.170001e+07   \n",
       "std                                     NaN        NaN  1.184935e+07   \n",
       "\n",
       "         category_id           category_code    brand         price  \\\n",
       "count   3.600000e+06                 2451772  3064189  3.600000e+06   \n",
       "unique           NaN                     126     2984           NaN   \n",
       "top              NaN  electronics.smartphone  samsung           NaN   \n",
       "freq             NaN                  969919   439716           NaN   \n",
       "mean    2.057230e+18                     NaN      NaN  2.939980e+02   \n",
       "min     2.053014e+18                     NaN      NaN  0.000000e+00   \n",
       "25%     2.053014e+18                     NaN      NaN  6.819000e+01   \n",
       "50%     2.053014e+18                     NaN      NaN  1.689100e+02   \n",
       "75%     2.053014e+18                     NaN      NaN  3.621000e+02   \n",
       "max     2.180737e+18                     NaN      NaN  2.574070e+03   \n",
       "std     1.810084e+16                     NaN      NaN  3.553471e+02   \n",
       "\n",
       "             user_id                          user_session  \n",
       "count   3.600000e+06                               3600000  \n",
       "unique           NaN                                537771  \n",
       "top              NaN  4488e77a-9901-4c4b-b162-47a224ceab51  \n",
       "freq             NaN                                  1008  \n",
       "mean    5.338908e+08                                   NaN  \n",
       "min     2.449511e+08                                   NaN  \n",
       "25%     5.158499e+08                                   NaN  \n",
       "50%     5.295364e+08                                   NaN  \n",
       "75%     5.518252e+08                                   NaN  \n",
       "max     5.665404e+08                                   NaN  \n",
       "std     1.919557e+07                                   NaN  "
      ]
     },
     "execution_count": 205,
     "metadata": {},
     "output_type": "execute_result"
    }
   ],
   "source": [
    "dataset.describe(datetime_is_numeric=True, include='all')"
   ]
  },
  {
   "cell_type": "markdown",
   "metadata": {},
   "source": [
    "## Managing missing data values"
   ]
  },
  {
   "cell_type": "code",
   "execution_count": 208,
   "metadata": {},
   "outputs": [
    {
     "name": "stdout",
     "output_type": "stream",
     "text": [
      "There are 535811 rows that present missing values in the column brand.\n"
     ]
    }
   ],
   "source": [
    "print('There are ' + str(dataset['brand'].isnull().sum()) + ' rows that present missing values in the column brand.')"
   ]
  },
  {
   "cell_type": "code",
   "execution_count": 210,
   "metadata": {},
   "outputs": [
    {
     "name": "stdout",
     "output_type": "stream",
     "text": [
      "There are 1148228 rows that present missing values in the column category_code.\n"
     ]
    }
   ],
   "source": [
    "print('There are ' + str(dataset['category_code'].isnull().sum()) + ' rows that present missing values in the column category_code.')"
   ]
  },
  {
   "cell_type": "code",
   "execution_count": 216,
   "metadata": {},
   "outputs": [
    {
     "name": "stdout",
     "output_type": "stream",
     "text": [
      "The total number of the rows containing missing values is: 1358093.\n"
     ]
    }
   ],
   "source": [
    "print('The total number of the rows containing missing values is: ' + str(dataset.isnull().any(axis=1).sum()) + '.')\n"
   ]
  },
  {
   "cell_type": "code",
   "execution_count": 225,
   "metadata": {},
   "outputs": [
    {
     "name": "stdout",
     "output_type": "stream",
     "text": [
      "The percentage of missing value in the original dataset is: 0.38%.\n"
     ]
    }
   ],
   "source": [
    "print('The percentage of missing value in the original dataset is: ' + str(round(dataset.isnull().any(axis=1).sum()/len(dataset),2)) + '%.')"
   ]
  },
  {
   "cell_type": "markdown",
   "metadata": {},
   "source": [
    "**Why did we chose to maintain the NaN values**\n",
    "\n",
    "Since the less populated values are the ones of the attributes *category_code* and *brand* we opt to maintain the missing values (NaN) without replacing them or filling them with other values, because it doesn't make much sense to impute values for a category code or/and a brand name.\n",
    "\n",
    "If we would have performed machine learning techniques then in that case we would have filled in the missing values.\n",
    "Also we excluded the removal of the missing data because the percentage of it was very high (see cell above)."
   ]
  },
  {
   "cell_type": "markdown",
   "metadata": {},
   "source": [
    "## Research questions"
   ]
  },
  {
   "cell_type": "markdown",
   "metadata": {},
   "source": [
    "### [RQ1] \n",
    "\n",
    "**INTRO**\n",
    "\n",
    "A marketing funnel describes your customer’s journey with your e-commerce. It may involve different stages, beginning when someone learns about your business, when he/she visits your website for the first time, to the purchasing stage, marketing funnels map routes to conversion and beyond. Suppose your funnel involves just three simple steps: 1) view, 2) cart, 3) purchase. "
   ]
  },
  {
   "cell_type": "markdown",
   "metadata": {},
   "source": [
    "### [RQ1.0] \n",
    "Which is the rate of complete funnels?\n"
   ]
  },
  {
   "cell_type": "code",
   "execution_count": 141,
   "metadata": {
    "scrolled": true
   },
   "outputs": [
    {
     "name": "stdout",
     "output_type": "stream",
     "text": [
      "The complete funnel rate is: 1%\n"
     ]
    }
   ],
   "source": [
    "gc.collect()\n",
    "\n",
    "# Group dataset by product_id, user_session and event_type and count the occurrences of each event type\n",
    "completeFunnel = dataset.groupby(['product_id', 'user_session', 'event_type']).event_type.count()\n",
    "\n",
    "# Convert obtained GroupBy Series into a Dataframe in order to rename the name of the column \n",
    "# containing the occurrences for each event type\n",
    "completeFunnel = pd.DataFrame(completeFunnel).rename(columns={'event_type':'count'}).reset_index()\n",
    "\n",
    "gc.collect()\n",
    "\n",
    "# Group dataset by product_id and user_session and count the occurrences of each user session \n",
    "completeFunnel = completeFunnel.groupby(['product_id','user_session']).user_session.count()\n",
    "\n",
    "# Convert obtained GroupBy Series into a Dataframe in order to rename the name of the column \n",
    "# containing the occurrences for each user session\n",
    "completeFunnel = pd.DataFrame(completeFunnel).rename(columns={'user_session':'count'}).reset_index()\n",
    "\n",
    "gc.collect()\n",
    "\n",
    "# Total number of rows containing the occurrences of each user session\n",
    "N = int(completeFunnel.shape[0])\n",
    "\n",
    "# Number of all the rowss containing all the three steps (view, cart, purchase) per session\n",
    "n = completeFunnel[completeFunnel['count'] == 3].shape[0]\n",
    "\n",
    "# Calculate the rate of complete funnels \n",
    "completeFunnelRate = round(n*100/N)\n",
    "\n",
    "print(\"The complete funnel rate is:\", str(completeFunnelRate) + '%')\n",
    "\n",
    "# Delete variable to free RAM\n",
    "del completeFunnel"
   ]
  },
  {
   "cell_type": "markdown",
   "metadata": {},
   "source": [
    "### [RQ1.1]\n",
    "\n",
    "What’s the operation users repeat more on average within a session? Produce a plot that shows the average number of times users perform each operation (view/removefromchart etc etc)."
   ]
  },
  {
   "cell_type": "code",
   "execution_count": 234,
   "metadata": {},
   "outputs": [
    {
     "name": "stdout",
     "output_type": "stream",
     "text": [
      "From the plot we can deduce the following informations:\n",
      "\n",
      "1. The most repetead operation is: view.\n",
      "2. The average number of cart operations per session is: 0.19\n",
      "3. The average number of purchase operations per session is: 0.22\n",
      "4. The average number of view operations per session is: 13.36\n",
      "5. The average number of removefromcart operations per session is: 0\n"
     ]
    },
    {
     "data": {
      "image/png": "[encoded data removed]",
      "text/plain": [
       "<Figure size 432x288 with 1 Axes>"
      ]
     },
     "metadata": {
      "needs_background": "light"
     },
     "output_type": "display_data"
    }
   ],
   "source": [
    "# Grouping the data by the event types and counting the number of occurrences for each event:\n",
    "totalOperationsPerEventType = dataset.groupby('event_type').event_type.count()\n",
    "\n",
    "# Converting the dataset into an array and dividing each element of the array by the total unique numbers of sessions\n",
    "# in order to obtain the average number of operations per event type\n",
    "averageNumberOfOperationsPerSession = totalOperationsPerEventType.to_numpy()/dataset_oct.user_session.nunique()\n",
    "\n",
    "# Getting the unique names of the event types \n",
    "eventTypes = sorted(dataset.event_type.unique())\n",
    "\n",
    "# Plotting the average number of times users perform each operation (view/removefromchart etc etc)\n",
    "plt.plot(eventTypes,averageNumberOfOperationsPerSession)\n",
    "\n",
    "print(\"From the plot we can deduce the following informations:\" + '\\n')\n",
    "print(\"1. The most repetead operation is:\", str(eventTypes[len(eventTypes)-1]) + \".\")\n",
    "print(\"2. The average number of cart operations per session is: \" + str(round(averageNumberOfOperationsPerSession[0],2)))\n",
    "print(\"3. The average number of purchase operations per session is: \" + str(round(averageNumberOfOperationsPerSession[1],2)))\n",
    "print(\"4. The average number of view operations per session is: \" + str(round(averageNumberOfOperationsPerSession[2],2)))\n",
    "print(\"5. The average number of removefromcart operations per session is: \" + str(0))"
   ]
  },
  {
   "cell_type": "markdown",
   "metadata": {},
   "source": [
    "### [RQ6.1] \n",
    "The conversion rate of a product is given by the number of times a product has been bought over the number of times it has been visited. What's the conversion rate of your online store? Find the overall conversion rate of your store."
   ]
  },
  {
   "cell_type": "code",
   "execution_count": 49,
   "metadata": {},
   "outputs": [
    {
     "name": "stdout",
     "output_type": "stream",
     "text": [
      "The overall conversion rate of the store is equal to: 0.07%.\n"
     ]
    }
   ],
   "source": [
    "# The following table shows how many times a product has been purchased.\n",
    "purchasedProducts = pd.DataFrame(dataset[dataset.event_type == 'purchase'].groupby('product_id').product_id.count()).rename(columns={'product_id':'count purchases'}).reset_index()\n",
    "\n",
    "# The following table shows how many times a product has been viewed.\n",
    "viewedProducts = pd.DataFrame(dataset[dataset.event_type == 'view'].groupby('product_id').product_id.count()).rename(columns={'product_id':'count views'}).reset_index()\n",
    "\n",
    "# Join on the two tables\n",
    "mergedTable = purchasedProducts.join(viewedProducts.set_index('product_id'), on = 'product_id')\n",
    "\n",
    "# Add a new column to the table and calculate the conversion rate for each product\n",
    "mergedTable['conversion rate'] = mergedTable['count purchases']/mergedTable['count views']\n",
    "\n",
    "# Calculate the overall conversion rate of the store\n",
    "print('The overall conversion rate of the store is equal to: ' + str(round(mergedTable['conversion rate'].mean(),2)) + '%.')\n",
    "\n",
    "#del purchasedProducts, viewedProducts, mergedTable"
   ]
  },
  {
   "cell_type": "markdown",
   "metadata": {},
   "source": [
    "### [RQ6.2] \n",
    "Plot the number of purchases of each category and show the conversion rate of each category in decreasing order."
   ]
  },
  {
   "cell_type": "code",
   "execution_count": 153,
   "metadata": {},
   "outputs": [
    {
     "name": "stdout",
     "output_type": "stream",
     "text": [
      "The number of purchases for each product category and the conversion rate for each product category in decreasing order can be viewed in the table below:\n"
     ]
    },
    {
     "data": {
      "text/html": [
       "<div>\n",
       "<style scoped>\n",
       "    .dataframe tbody tr th:only-of-type {\n",
       "        vertical-align: middle;\n",
       "    }\n",
       "\n",
       "    .dataframe tbody tr th {\n",
       "        vertical-align: top;\n",
       "    }\n",
       "\n",
       "    .dataframe thead th {\n",
       "        text-align: right;\n",
       "    }\n",
       "</style>\n",
       "<table border=\"1\" class=\"dataframe\">\n",
       "  <thead>\n",
       "    <tr style=\"text-align: right;\">\n",
       "      <th></th>\n",
       "      <th>category_id</th>\n",
       "      <th>count_purchases</th>\n",
       "      <th>count_views</th>\n",
       "      <th>conversion_rate</th>\n",
       "    </tr>\n",
       "  </thead>\n",
       "  <tbody>\n",
       "    <tr>\n",
       "      <th>419</th>\n",
       "      <td>2149484852091552186</td>\n",
       "      <td>8</td>\n",
       "      <td>106</td>\n",
       "      <td>0.08</td>\n",
       "    </tr>\n",
       "    <tr>\n",
       "      <th>319</th>\n",
       "      <td>2077453854185620383</td>\n",
       "      <td>10</td>\n",
       "      <td>180</td>\n",
       "      <td>0.06</td>\n",
       "    </tr>\n",
       "    <tr>\n",
       "      <th>369</th>\n",
       "      <td>2110937219005940617</td>\n",
       "      <td>1</td>\n",
       "      <td>19</td>\n",
       "      <td>0.05</td>\n",
       "    </tr>\n",
       "    <tr>\n",
       "      <th>431</th>\n",
       "      <td>2172371118332051820</td>\n",
       "      <td>4</td>\n",
       "      <td>79</td>\n",
       "      <td>0.05</td>\n",
       "    </tr>\n",
       "    <tr>\n",
       "      <th>137</th>\n",
       "      <td>2053013558618227283</td>\n",
       "      <td>23</td>\n",
       "      <td>521</td>\n",
       "      <td>0.04</td>\n",
       "    </tr>\n",
       "    <tr>\n",
       "      <th>...</th>\n",
       "      <td>...</td>\n",
       "      <td>...</td>\n",
       "      <td>...</td>\n",
       "      <td>...</td>\n",
       "    </tr>\n",
       "    <tr>\n",
       "      <th>179</th>\n",
       "      <td>2053013560623104713</td>\n",
       "      <td>1</td>\n",
       "      <td>887</td>\n",
       "      <td>0.00</td>\n",
       "    </tr>\n",
       "    <tr>\n",
       "      <th>118</th>\n",
       "      <td>2053013557955527211</td>\n",
       "      <td>1</td>\n",
       "      <td>980</td>\n",
       "      <td>0.00</td>\n",
       "    </tr>\n",
       "    <tr>\n",
       "      <th>208</th>\n",
       "      <td>2053013562116277013</td>\n",
       "      <td>1</td>\n",
       "      <td>1009</td>\n",
       "      <td>0.00</td>\n",
       "    </tr>\n",
       "    <tr>\n",
       "      <th>403</th>\n",
       "      <td>2137704926053138958</td>\n",
       "      <td>2</td>\n",
       "      <td>2124</td>\n",
       "      <td>0.00</td>\n",
       "    </tr>\n",
       "    <tr>\n",
       "      <th>193</th>\n",
       "      <td>2053013561327747819</td>\n",
       "      <td>2</td>\n",
       "      <td>2433</td>\n",
       "      <td>0.00</td>\n",
       "    </tr>\n",
       "  </tbody>\n",
       "</table>\n",
       "<p>433 rows × 4 columns</p>\n",
       "</div>"
      ],
      "text/plain": [
       "             category_id  count_purchases  count_views  conversion_rate\n",
       "419  2149484852091552186                8          106             0.08\n",
       "319  2077453854185620383               10          180             0.06\n",
       "369  2110937219005940617                1           19             0.05\n",
       "431  2172371118332051820                4           79             0.05\n",
       "137  2053013558618227283               23          521             0.04\n",
       "..                   ...              ...          ...              ...\n",
       "179  2053013560623104713                1          887             0.00\n",
       "118  2053013557955527211                1          980             0.00\n",
       "208  2053013562116277013                1         1009             0.00\n",
       "403  2137704926053138958                2         2124             0.00\n",
       "193  2053013561327747819                2         2433             0.00\n",
       "\n",
       "[433 rows x 4 columns]"
      ]
     },
     "execution_count": 153,
     "metadata": {},
     "output_type": "execute_result"
    }
   ],
   "source": [
    "# The following table shows how many times a product has been purchased for each category\n",
    "gc.collect()\n",
    "purchasedProducts = pd.DataFrame(dataset[dataset.event_type == 'purchase'].groupby('category_id').product_id.count()).rename(columns={'product_id':'count_purchases'}).reset_index()\n",
    "\n",
    "# The following table shows how many times a product has been viewed for each category\n",
    "viewedProducts = pd.DataFrame(dataset[dataset.event_type == 'view'].groupby('category_id').product_id.count()).rename(columns={'product_id':'count_views'}).reset_index()\n",
    "\n",
    "# Join on the two tables\n",
    "mergedTable = purchasedProducts.join(viewedProducts.set_index('category_id'), on = 'category_id')\n",
    "\n",
    "# Add a new column to the table and calculate the conversion rate for each product category\n",
    "mergedTable['conversion_rate'] = mergedTable['count_purchases']/mergedTable['count_views']\n",
    "pd.options.display.float_format = '{:,.2f}'.format\n",
    "mergedTable = mergedTable.sort_values(by = 'conversion_rate', ascending = False)\n",
    "print('The number of purchases for each product category and the conversion rate for each product category in decreasing order can be viewed in the table below:')\n",
    "mergedTable"
   ]
  }
 ],
 "metadata": {
  "kernelspec": {
   "display_name": "Python 3",
   "language": "python",
   "name": "python3"
  },
  "language_info": {
   "codemirror_mode": {
    "name": "ipython",
    "version": 3
   },
   "file_extension": ".py",
   "mimetype": "text/x-python",
   "name": "python",
   "nbconvert_exporter": "python",
   "pygments_lexer": "ipython3",
   "version": "3.8.3"
  }
 },
 "nbformat": 4,
 "nbformat_minor": 4
}
