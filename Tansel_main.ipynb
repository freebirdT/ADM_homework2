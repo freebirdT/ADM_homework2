{
 "cells": [
  {
   "cell_type": "code",
   "execution_count": null,
   "metadata": {},
   "outputs": [],
   "source": [
    "# ingore_index part highly important\n",
    "dataset = dataset.append(dataset_nov, ignore_index= 'True')"
   ]
  },
  {
   "cell_type": "markdown",
   "metadata": {},
   "source": [
    "### [RQ1.2]\n",
    "\n",
    "How many times, on average, a user views a product before adding it to the cart?"
   ]
  },
  {
   "cell_type": "code",
   "execution_count": null,
   "metadata": {},
   "outputs": [],
   "source": [
    "gc.collect()\n",
    "\n",
    "# Creating a new dataframe with grouping the data by user_id, user_session, product_id and counting the number of occurrences for event_type \"view\":\n",
    "view_df = dataset.groupby([dataset.user_id, dataset.user_session, dataset.product_id, dataset[dataset.event_type=='view'].event_type]).event_type.count()\n",
    "\n",
    "gc.collect()\n",
    "\n",
    "# Creating a new dataframe with grouping the data by user_id, user_session, product_id and counting the number of occurrences for event_type \"cart\":\n",
    "cart_df = dataset.groupby([dataset.user_id, dataset.user_session, dataset.product_id, dataset[dataset.event_type=='cart'].event_type]).event_type.count()\n",
    "\n",
    "gc.collect()\n",
    "\n",
    "# Merging view_df and cart_df based on the same features which are user_id, user_session and product_id\n",
    "view_cart_df = pd.merge(view_df, cart_df, how ='inner', on =['user_id', 'user_session', 'product_id'])\n",
    "\n",
    "gc.collect()\n",
    "\n",
    "# Finding the average number of views of a product before added to the cart\n",
    "average_view_before_cart = view_cart_df.event_type_x.sum()/view_cart_df.event_type_y.sum()\n",
    "\n",
    "print(\"Average of \" + str(average_view_before_cart) + \" times user views product before adding it to the cart.\")\n",
    "\n",
    "# Delete variable to free RAM\n",
    "del view_df\n",
    "del view_cart_df\n",
    "del average_view_before_cart\n"
   ]
  },
  {
   "cell_type": "markdown",
   "metadata": {},
   "source": [
    "### [RQ1.3]\n",
    "\n",
    "What’s the probability that products added once to the cart are effectively bought?"
   ]
  },
  {
   "cell_type": "code",
   "execution_count": null,
   "metadata": {},
   "outputs": [],
   "source": [
    "gc.collect()\n",
    "\n",
    "# Creating a new dataframe with grouping the data by user_id, user_session, product_id and counting the number of occurrences for event_type \"purchase\":\n",
    "purchase_df = dataset.groupby([dataset.user_id, dataset.user_session, dataset.product_id, dataset[dataset.event_type=='purchase'].event_type]).event_type.count()\n",
    "\n",
    "gc.collect()\n",
    "\n",
    "# Merging purchase_df and cart_df based on the same features which are user_id, user_session and product_id\n",
    "# cart_df is created at RQ1.2\n",
    "purchase_cart_df = pd.merge(purchase_df, cart_df, how ='inner', on =['user_id', 'user_session', 'product_id'])\n",
    "\n",
    "gc.collect()\n",
    "\n",
    "# Finding probability of the products that added to the card once are effectively bought\n",
    "# Can be found as intersection of the bought and added to cart products over added to cart products based on the same user_session, user_id and product_id\n",
    "probability_bought_given_added_to_cart = len(purchase_cart_df)/len(cart_df)\n",
    "\n",
    "print(\"Probability of the products added once to the cart that are effectively bought is: \" + str(probability_bought_given_added_to_cart))\n",
    "\n",
    "# Delete variable to free RAM\n",
    "del purchase_df\n",
    "del purchase_cart_df\n",
    "del probability_bought_given_added_to_cart\n",
    "del cart_df"
   ]
  },
  {
   "cell_type": "markdown",
   "metadata": {},
   "source": [
    "### [RQ1.5]\n",
    "\n",
    "How much time passes on average between the first view time and a purchase/addition to cart?"
   ]
  },
  {
   "cell_type": "code",
   "execution_count": null,
   "metadata": {},
   "outputs": [],
   "source": [
    "gc.collect()\n",
    "\n",
    "# Creating a new dataframe by taking rows with event_type view\n",
    "first_view_df = dataset[dataset.event_type=='view']\n",
    "\n",
    "# Taking the first observed view event type for specific user_session, user_id and product_id\n",
    "first_view_df = first_view_df.groupby(['user_session', 'user_id','product_id']).first()\n",
    "\n",
    "gc.collect()\n",
    "\n",
    "# Creating a new dataframe by tahing rows with event_type cart\n",
    "cart_df = dataset[dataset.event_type=='cart']\n",
    "\n",
    "gc.collect()\n",
    "\n",
    "# Creating a new dataframe by tahing rows with event_type purchase\n",
    "purchase_df = dataset[dataset.event_type=='purchase']\n",
    "\n",
    "gc.collect()\n",
    "\n",
    "# Constructing a new dataframe with using first_view_df and cart_df dataframes\n",
    "# based on the same user_session, user_id, and product_id\n",
    "time_elapse_between_first_view_and_cart_events=pd.merge(first_view_df, cart_df, how ='inner', on =['user_session', 'user_id', 'product_id'])\n",
    "\n",
    "# Adding a new column in time_elapse_between_first_view_and_cart_events dataframe \n",
    "# to show time elapse between view event_type and cart event_type\n",
    "time_elapse_between_first_view_and_cart_events['time_elapse']=time_elapse_between_first_view_and_cart_events.event_time_y-time_elapse_between_first_view_and_cart_events.event_time_x\n",
    "\n",
    "gc.collect()\n",
    "\n",
    "# Summing the time_elapse values to reach the average value and keeping the number of instances in the dataframe\n",
    "total_time_elapse_between_first_view_and_cart_events = time_elapse_between_first_view_and_cart_events.time_elapse.sum()\n",
    "count_total_time_elapse_between_first_view_and_cart_events = len(time_elapse_between_first_view_and_cart_events)\n",
    "\n",
    "gc.collect()\n",
    "\n",
    "# Constructing a new dataframe with using first_view_df and purchase_df dataframes\n",
    "# based on the same user_session, user_id, and product_id\n",
    "time_elapse_between_first_view_and_purchase_events=pd.merge(first_view_df, purchase_df, how ='inner', on =['user_session', 'user_id', 'product_id'])\n",
    "\n",
    "# Adding a new column in time_elapse_between_first_view_and_purchase_events dataframe \n",
    "# to show time elapse between view event_type and purchase event_type\n",
    "time_elapse_between_first_view_and_purchase_events['time_elapse']=time_elapse_between_first_view_and_purchase_events.event_time_y-time_elapse_between_first_view_and_purchase_events.event_time_x\n",
    "\n",
    "gc.collect()\n",
    "\n",
    "# Summing the time_elapse values to reach the average value and keeping the number of instances in the dataframe\n",
    "total_time_elapse_between_first_view_and_purchase_events = time_elapse_between_first_view_and_purchase_events.time_elapse.sum()\n",
    "count_total_time_elapse_between_first_view_and_purchase_events = len(time_elapse_between_first_view_and_purchase_events)\n",
    "\n",
    "gc.collect()\n",
    "\n",
    "# Calculating the average time elapse between view and purchase/cart event_types\n",
    "average_time_passes_between_first_view_and_purchase_or_cart_events = (total_time_elapse_between_first_view_and_cart_events + total_time_elapse_between_first_view_and_purchase_events)\n",
    "average_time_passes_between_first_view_and_purchase_or_cart_events = average_time_passes_between_first_view_and_purchase_or_cart_events /(count_total_time_elapse_between_first_view_and_cart_events + count_total_time_elapse_between_first_view_and_purchase_events)\n",
    "\n",
    "print('Average time passes on average between the first view and a purchase or cart events is: '+ str(average_time_passes_between_first_view_and_purchase_or_cart_events))\n",
    "\n",
    "# Delete variable to free RAM\n",
    "del first_view_df\n",
    "del cart_df\n",
    "del purchase_df\n",
    "del time_elapse_between_first_view_and_cart_events\n",
    "del total_time_elapse_between_first_view_and_cart_events\n",
    "del count_total_time_elapse_between_first_view_and_cart_events\n",
    "del time_elapse_between_first_view_and_purchase_events\n",
    "del total_time_elapse_between_first_view_and_purchase_events\n",
    "del count_total_time_elapse_between_first_view_and_purchase_events\n",
    "del average_time_passes_between_first_view_and_purchase_or_cart_events\n"
   ]
  },
  {
   "cell_type": "markdown",
   "metadata": {},
   "source": [
    "### [RQ2.0] \n",
    "\n",
    "\n",
    "What are the categories of the most trending products overall? For each month visualize this information through a plot showing the number of sold products per category. "
   ]
  },
  {
   "cell_type": "code",
   "execution_count": null,
   "metadata": {},
   "outputs": [],
   "source": [
    "gc.collect()\n",
    "\n",
    "# Creating a new dataframe with grouping the data by category_code and product_id in order to find the category of the most trending products sorted in descending order\n",
    "categories_of_most_trending_products = dataset[dataset.event_type == 'purchase'].groupby(['category_code', 'product_id']).product_id.count().sort_values(ascending=False)\n",
    "\n",
    "# Listing the most 10 popular products with category_code and amount sold information\n",
    "print(\"The most 10 popular products overall with category_code and amount sold informations' are: \")\n",
    "print(\"-----------------------------------------------------------------------------------\")\n",
    "print(categories_of_most_trending_products.head(10))\n",
    "\n",
    "\n",
    "# Visualising the most 10 popular products with category_code and amount sold information\n",
    "plt.figure()\n",
    "categories_of_most_trending_products.head(10).plot.bar()\n",
    "plt.title('Categories and the product names of the most trending products overall')\n",
    "plt.xlabel('category_code/product_id')\n",
    "plt.ylabel('amount of products bought')\n",
    "plt.show()\n",
    "\n",
    "gc.collect()\n",
    "\n",
    "# Finding the unique months in the dataset to visualise month specific popular products and category information\n",
    "unique_months_in_dataset=dataset.event_time.dt.month.unique()\n",
    "\n",
    "# Creating new dataframe for each month and implementing the same code as above \n",
    "for i in range(len(unique_months_in_dataset)):\n",
    "    new_df=dataset[dataset.event_time.dt.month==unique_months_in_dataset[i]]\n",
    "    popular_products = new_df[new_df.event_type == 'purchase'].groupby(['category_code', 'product_id']).product_id.count().sort_values(ascending=False)\n",
    "    plt.figure()\n",
    "    popular_products.head(10).plot.bar()\n",
    "    plt.title('month: '+str(unique_months_in_dataset[i]))\n",
    "    plt.xlabel('category_code/product_id')\n",
    "    plt.ylabel('amount of products bought')\n",
    "\n",
    "    plt.show()\n",
    "    \n",
    "# Creating new dataframe for each month and visualising the number of products bought per category\n",
    "for i in range(len(unique_months_in_dataset)):\n",
    "    new_df=dataset[dataset.event_time.dt.month==unique_months_in_dataset[i]]\n",
    "    popular_products = new_df[new_df.event_type == 'purchase'].groupby('category_code').event_type.count().sort_values(ascending=False)\n",
    "    plt.figure()\n",
    "    popular_products.plot.bar()\n",
    "    plt.title('month: '+str(unique_months_in_dataset[i]))\n",
    "    plt.xlabel('category_code')\n",
    "    plt.ylabel('amount of products bought')\n",
    "    plt.show()\n",
    "\n",
    "# Delete variable to free RAM\n",
    "del categories_of_most_trending_products\n",
    "del unique_months_in_dataset\n"
   ]
  },
  {
   "cell_type": "markdown",
   "metadata": {},
   "source": [
    "### [RQ2.1] \n",
    "\n",
    "\n",
    "Plot the most visited subcategories."
   ]
  },
  {
   "cell_type": "code",
   "execution_count": null,
   "metadata": {},
   "outputs": [],
   "source": [
    "gc.collect()\n",
    "\n",
    "# Creating new dataframe based on view event type and grouping by category_id to find the most popular subcategory\n",
    "# Sorting in descending order\n",
    "most_visited_subcategories = dataset[dataset.event_type == 'view'].groupby([\"category_id\", \"event_type\"]).event_type.count().sort_values(ascending=False)\n",
    "\n",
    "# Visualising the bar plot of the most visited 10 subcategory\n",
    "plt.figure()\n",
    "most_visited_subcategories.head(10).plot.bar()\n",
    "plt.title('10 most visited subcategories at the overall dataset')\n",
    "plt.xlabel('category_id')\n",
    "plt.ylabel('total view')\n",
    "plt.show()\n",
    "\n",
    "# Delete variable to free RAM\n",
    "del most_visited_subcategories"
   ]
  },
  {
   "cell_type": "markdown",
   "metadata": {},
   "source": [
    "### [RQ2.2] \n",
    "\n",
    "\n",
    "What are the 10 most sold products per category?"
   ]
  },
  {
   "cell_type": "code",
   "execution_count": null,
   "metadata": {},
   "outputs": [],
   "source": [
    "gc.collect()\n",
    "\n",
    "# Creating a dataframe event_type only purchase and grouping by category_code and product_id to extract the number of products sold per category\n",
    "ten_most_sold = dataset[dataset.event_type=='purchase'].groupby(['category_code', 'product_id']).product_id.count()\n",
    "\n",
    "# Because of the not sorted number of products per category, the following line reaches top 10 values \n",
    "ten_most_sold = ten_most_sold.groupby('category_code').nlargest(10)\n",
    "\n",
    "# Visualising the 10 most sold products per category\n",
    "ten_most_sold.plot.bar(figsize=(18,3))\n",
    "\n",
    "# Delete variable to free RAM\n",
    "del ten_most_sold"
   ]
  },
  {
   "cell_type": "markdown",
   "metadata": {},
   "source": [
    "### [RQ3.0] \n",
    "\n",
    "\n",
    "For each category, what’s the brand whose prices are higher on average?"
   ]
  },
  {
   "cell_type": "code",
   "execution_count": null,
   "metadata": {},
   "outputs": [],
   "source": [
    "gc.collect()\n",
    "\n",
    "# Creating a new dataframe with notnull value of price, grouping by category_code and brand, taking the mean value of the products' price for each brand\n",
    "highest_price_brand_per_category = dataset[dataset.price.notnull()].groupby([\"category_code\", \"brand\"]).price.mean()\n",
    "\n",
    "# Grouping the created dataframe by category_code in order to find the highest mean value of the price\n",
    "highest_price_brand_per_category = highest_price_brand_per_category.groupby('category_code').nlargest(1)\n",
    "\n",
    "# Printing the final result\n",
    "print(highest_price_brand_per_category)\n",
    "\n",
    "# Delete variable to free RAM\n",
    "del highest_price_brand_per_category"
   ]
  },
  {
   "cell_type": "markdown",
   "metadata": {},
   "source": [
    "### [RQ3.1] \n",
    "\n",
    "\n",
    "Write a function that asks the user a category in input and returns a plot indicating the average price of the products sold by the brand."
   ]
  },
  {
   "cell_type": "code",
   "execution_count": null,
   "metadata": {},
   "outputs": [],
   "source": [
    "# Taking the user input of category name\n",
    "if __name__ =='__main__':\n",
    "    print('Please write a category name to have a plot of average price of products of this category')\n",
    "    cat_cod=str(input())\n",
    "\n",
    "gc.collect()\n",
    "\n",
    "# Eliminating null values of price\n",
    "not_null_prices=dataset[dataset.price.notnull()]\n",
    "\n",
    "gc.collect()\n",
    "\n",
    "# Creating a new dataframe which has category_code entered by user, grouping by category_code and brand and taking the mean value\n",
    "avg_price_of_products_brands_category= not_null_prices[not_null_prices.category_code==cat_cod].groupby(['category_code', 'brand']).price.mean()\n",
    "\n",
    "# Plotting the average price of the products sold by the brand in user specified category\n",
    "plt.figure()\n",
    "avg_price_of_products_brands_category.plot.bar(figsize=(18,3))\n",
    "plt.title('Average price of the products sold by the brands of '+ cat_cod + ' category')\n",
    "plt.xlabel('Category/Brand')\n",
    "plt.ylabel('Average price')\n",
    "plt.show()\n",
    "\n",
    "# Delete variable to free RAM\n",
    "del not_null_prices\n",
    "del avg_price_of_products_brands_category"
   ]
  },
  {
   "cell_type": "markdown",
   "metadata": {},
   "source": [
    "### [RQ3.2] \n",
    "\n",
    "Find, for each category, the brand with the highest average price. Return all the results in ascending order by price."
   ]
  },
  {
   "cell_type": "code",
   "execution_count": null,
   "metadata": {},
   "outputs": [],
   "source": [
    "gc.collect()\n",
    "\n",
    "# Creating a dataframe with not null values of price, grouping by category_code and brand, taking the mean of price\n",
    "expensive_brand_by_each_category=dataset[dataset.price.notnull()].groupby(['category_code', 'brand']).price.mean()\n",
    "\n",
    "# For each category taking the highest average value of price corresponds to most expensive brand\n",
    "expensive_brand_by_each_category=expensive_brand_by_each_category.groupby('category_code').nlargest(1)\n",
    "\n",
    "# Sorting values in the ascending order\n",
    "expensive_brand_by_each_category=expensive_brand_by_each_category.sort_values()\n",
    "\n",
    "# Printing the result\n",
    "print(expensive_brand_by_each_category)\n",
    "\n",
    "# Delete variable to free RAM\n",
    "del expensive_brand_by_each_category"
   ]
  },
  {
   "cell_type": "code",
   "execution_count": null,
   "metadata": {},
   "outputs": [],
   "source": []
  },
  {
   "cell_type": "code",
   "execution_count": null,
   "metadata": {},
   "outputs": [],
   "source": []
  },
  {
   "cell_type": "code",
   "execution_count": null,
   "metadata": {},
   "outputs": [],
   "source": []
  },
  {
   "cell_type": "code",
   "execution_count": null,
   "metadata": {},
   "outputs": [],
   "source": []
  }
 ],
 "metadata": {
  "kernelspec": {
   "display_name": "Python 3",
   "language": "python",
   "name": "python3"
  },
  "language_info": {
   "codemirror_mode": {
    "name": "ipython",
    "version": 3
   },
   "file_extension": ".py",
   "mimetype": "text/x-python",
   "name": "python",
   "nbconvert_exporter": "python",
   "pygments_lexer": "ipython3",
   "version": "3.8.3"
  }
 },
 "nbformat": 4,
 "nbformat_minor": 4
}
